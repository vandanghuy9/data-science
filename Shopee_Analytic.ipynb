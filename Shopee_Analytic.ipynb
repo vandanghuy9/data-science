{
  "cells": [
    {
      "cell_type": "code",
      "execution_count": 1,
      "metadata": {
        "colab": {
          "base_uri": "https://localhost:8080/"
        },
        "id": "GGlEwQbyvb8b",
        "outputId": "7823b122-28b3-4a8a-b839-c12e4a01808b"
      },
      "outputs": [
        {
          "name": "stdout",
          "output_type": "stream",
          "text": [
            "Collecting underthesea\n",
            "  Obtaining dependency information for underthesea from https://files.pythonhosted.org/packages/c0/26/a2615fb23899ec747eaf7d7b3d4ae6b1959b71ae2a8546e121a8ce375d9c/underthesea-6.8.0-py3-none-any.whl.metadata\n",
            "  Downloading underthesea-6.8.0-py3-none-any.whl.metadata (14 kB)\n",
            "Collecting Click>=6.0 (from underthesea)\n",
            "  Obtaining dependency information for Click>=6.0 from https://files.pythonhosted.org/packages/00/2e/d53fa4befbf2cfa713304affc7ca780ce4fc1fd8710527771b58311a3229/click-8.1.7-py3-none-any.whl.metadata\n",
            "  Downloading click-8.1.7-py3-none-any.whl.metadata (3.0 kB)\n",
            "Collecting python-crfsuite>=0.9.6 (from underthesea)\n",
            "  Obtaining dependency information for python-crfsuite>=0.9.6 from https://files.pythonhosted.org/packages/22/28/141f6a0f053bbe999d7f905cc9f126e29541986dee14a91078d14e45c97b/python_crfsuite-0.9.10-cp312-cp312-win_amd64.whl.metadata\n",
            "  Downloading python_crfsuite-0.9.10-cp312-cp312-win_amd64.whl.metadata (4.3 kB)\n",
            "Collecting nltk (from underthesea)\n",
            "  Obtaining dependency information for nltk from https://files.pythonhosted.org/packages/a6/0a/0d20d2c0f16be91b9fa32a77b76c60f9baf6eba419e5ef5deca17af9c582/nltk-3.8.1-py3-none-any.whl.metadata\n",
            "  Downloading nltk-3.8.1-py3-none-any.whl.metadata (2.8 kB)\n",
            "Collecting tqdm (from underthesea)\n",
            "  Obtaining dependency information for tqdm from https://files.pythonhosted.org/packages/18/eb/fdb7eb9e48b7b02554e1664afd3bd3f117f6b6d6c5881438a0b055554f9b/tqdm-4.66.4-py3-none-any.whl.metadata\n",
            "  Downloading tqdm-4.66.4-py3-none-any.whl.metadata (57 kB)\n",
            "     ---------------------------------------- 0.0/57.6 kB ? eta -:--:--\n",
            "     --------------------- ------------------ 30.7/57.6 kB 1.3 MB/s eta 0:00:01\n",
            "     ---------------------------------------- 57.6/57.6 kB 1.0 MB/s eta 0:00:00\n",
            "Collecting requests (from underthesea)\n",
            "  Obtaining dependency information for requests from https://files.pythonhosted.org/packages/70/8e/0e2d847013cb52cd35b38c009bb167a1a26b2ce6cd6965bf26b47bc0bf44/requests-2.31.0-py3-none-any.whl.metadata\n",
            "  Downloading requests-2.31.0-py3-none-any.whl.metadata (4.6 kB)\n",
            "Collecting joblib (from underthesea)\n",
            "  Obtaining dependency information for joblib from https://files.pythonhosted.org/packages/91/29/df4b9b42f2be0b623cbd5e2140cafcaa2bef0759a00b7b70104dcfe2fb51/joblib-1.4.2-py3-none-any.whl.metadata\n",
            "  Downloading joblib-1.4.2-py3-none-any.whl.metadata (5.4 kB)\n",
            "Collecting scikit-learn (from underthesea)\n",
            "  Obtaining dependency information for scikit-learn from https://files.pythonhosted.org/packages/40/77/91f92b2fddbd14201bf36cd0c0e7279f1501a88e7a00ef11261c4b95bb7a/scikit_learn-1.4.2-cp312-cp312-win_amd64.whl.metadata\n",
            "  Downloading scikit_learn-1.4.2-cp312-cp312-win_amd64.whl.metadata (11 kB)\n",
            "Collecting PyYAML (from underthesea)\n",
            "  Obtaining dependency information for PyYAML from https://files.pythonhosted.org/packages/2b/9f/fbade56564ad486809c27b322d0f7e6a89c01f6b4fe208402e90d4443a99/PyYAML-6.0.1-cp312-cp312-win_amd64.whl.metadata\n",
            "  Downloading PyYAML-6.0.1-cp312-cp312-win_amd64.whl.metadata (2.1 kB)\n",
            "Collecting underthesea-core==1.0.4 (from underthesea)\n",
            "  Downloading underthesea_core-1.0.4.tar.gz (560 kB)\n",
            "     ---------------------------------------- 0.0/560.4 kB ? eta -:--:--\n",
            "     ------- ------------------------------ 112.6/560.4 kB 3.3 MB/s eta 0:00:01\n",
            "     ------------------------ ------------- 368.6/560.4 kB 4.6 MB/s eta 0:00:01\n",
            "     -------------------------------------  553.0/560.4 kB 4.3 MB/s eta 0:00:01\n",
            "     -------------------------------------  553.0/560.4 kB 4.3 MB/s eta 0:00:01\n",
            "     -------------------------------------  553.0/560.4 kB 4.3 MB/s eta 0:00:01\n",
            "     -------------------------------------- 560.4/560.4 kB 2.2 MB/s eta 0:00:00\n",
            "  Installing build dependencies: started\n",
            "  Installing build dependencies: finished with status 'done'\n",
            "  Getting requirements to build wheel: started\n",
            "  Getting requirements to build wheel: finished with status 'done'\n",
            "Note: you may need to restart the kernel to use updated packages.\n"
          ]
        },
        {
          "name": "stderr",
          "output_type": "stream",
          "text": [
            "ERROR: Exception:\n",
            "Traceback (most recent call last):\n",
            "  File \"c:\\Users\\HP\\AppData\\Local\\Programs\\Python\\Python312\\Lib\\site-packages\\pip\\_internal\\cli\\base_command.py\", line 180, in exc_logging_wrapper\n",
            "    status = run_func(*args)\n",
            "             ^^^^^^^^^^^^^^^\n",
            "  File \"c:\\Users\\HP\\AppData\\Local\\Programs\\Python\\Python312\\Lib\\site-packages\\pip\\_internal\\cli\\req_command.py\", line 248, in wrapper\n",
            "    return func(self, options, args)\n",
            "           ^^^^^^^^^^^^^^^^^^^^^^^^^\n",
            "  File \"c:\\Users\\HP\\AppData\\Local\\Programs\\Python\\Python312\\Lib\\site-packages\\pip\\_internal\\commands\\install.py\", line 377, in run\n",
            "    requirement_set = resolver.resolve(\n",
            "                      ^^^^^^^^^^^^^^^^^\n",
            "  File \"c:\\Users\\HP\\AppData\\Local\\Programs\\Python\\Python312\\Lib\\site-packages\\pip\\_internal\\resolution\\resolvelib\\resolver.py\", line 92, in resolve\n",
            "    result = self._result = resolver.resolve(\n",
            "                            ^^^^^^^^^^^^^^^^^\n",
            "  File \"c:\\Users\\HP\\AppData\\Local\\Programs\\Python\\Python312\\Lib\\site-packages\\pip\\_vendor\\resolvelib\\resolvers.py\", line 546, in resolve\n",
            "    state = resolution.resolve(requirements, max_rounds=max_rounds)\n",
            "            ^^^^^^^^^^^^^^^^^^^^^^^^^^^^^^^^^^^^^^^^^^^^^^^^^^^^^^^\n",
            "  File \"c:\\Users\\HP\\AppData\\Local\\Programs\\Python\\Python312\\Lib\\site-packages\\pip\\_vendor\\resolvelib\\resolvers.py\", line 427, in resolve\n",
            "    failure_causes = self._attempt_to_pin_criterion(name)\n",
            "                     ^^^^^^^^^^^^^^^^^^^^^^^^^^^^^^^^^^^^\n",
            "  File \"c:\\Users\\HP\\AppData\\Local\\Programs\\Python\\Python312\\Lib\\site-packages\\pip\\_vendor\\resolvelib\\resolvers.py\", line 239, in _attempt_to_pin_criterion\n",
            "    criteria = self._get_updated_criteria(candidate)\n",
            "               ^^^^^^^^^^^^^^^^^^^^^^^^^^^^^^^^^^^^^\n",
            "  File \"c:\\Users\\HP\\AppData\\Local\\Programs\\Python\\Python312\\Lib\\site-packages\\pip\\_vendor\\resolvelib\\resolvers.py\", line 230, in _get_updated_criteria\n",
            "    self._add_to_criteria(criteria, requirement, parent=candidate)\n",
            "  File \"c:\\Users\\HP\\AppData\\Local\\Programs\\Python\\Python312\\Lib\\site-packages\\pip\\_vendor\\resolvelib\\resolvers.py\", line 173, in _add_to_criteria\n",
            "    if not criterion.candidates:\n",
            "           ^^^^^^^^^^^^^^^^^^^^\n",
            "  File \"c:\\Users\\HP\\AppData\\Local\\Programs\\Python\\Python312\\Lib\\site-packages\\pip\\_vendor\\resolvelib\\structs.py\", line 156, in __bool__\n",
            "    return bool(self._sequence)\n",
            "           ^^^^^^^^^^^^^^^^^^^^\n",
            "  File \"c:\\Users\\HP\\AppData\\Local\\Programs\\Python\\Python312\\Lib\\site-packages\\pip\\_internal\\resolution\\resolvelib\\found_candidates.py\", line 155, in __bool__\n",
            "    return any(self)\n",
            "           ^^^^^^^^^\n",
            "  File \"c:\\Users\\HP\\AppData\\Local\\Programs\\Python\\Python312\\Lib\\site-packages\\pip\\_internal\\resolution\\resolvelib\\found_candidates.py\", line 143, in <genexpr>\n",
            "    return (c for c in iterator if id(c) not in self._incompatible_ids)\n",
            "           ^^^^^^^^^^^^^^^^^^^^^^^^^^^^^^^^^^^^^^^^^^^^^^^^^^^^^^^^^^^^\n",
            "  File \"c:\\Users\\HP\\AppData\\Local\\Programs\\Python\\Python312\\Lib\\site-packages\\pip\\_internal\\resolution\\resolvelib\\found_candidates.py\", line 47, in _iter_built\n",
            "    candidate = func()\n",
            "                ^^^^^^\n",
            "  File \"c:\\Users\\HP\\AppData\\Local\\Programs\\Python\\Python312\\Lib\\site-packages\\pip\\_internal\\resolution\\resolvelib\\factory.py\", line 206, in _make_candidate_from_link\n",
            "    self._link_candidate_cache[link] = LinkCandidate(\n",
            "                                       ^^^^^^^^^^^^^^\n",
            "  File \"c:\\Users\\HP\\AppData\\Local\\Programs\\Python\\Python312\\Lib\\site-packages\\pip\\_internal\\resolution\\resolvelib\\candidates.py\", line 293, in __init__\n",
            "    super().__init__(\n",
            "  File \"c:\\Users\\HP\\AppData\\Local\\Programs\\Python\\Python312\\Lib\\site-packages\\pip\\_internal\\resolution\\resolvelib\\candidates.py\", line 156, in __init__\n",
            "    self.dist = self._prepare()\n",
            "                ^^^^^^^^^^^^^^^\n",
            "  File \"c:\\Users\\HP\\AppData\\Local\\Programs\\Python\\Python312\\Lib\\site-packages\\pip\\_internal\\resolution\\resolvelib\\candidates.py\", line 225, in _prepare\n",
            "    dist = self._prepare_distribution()\n",
            "           ^^^^^^^^^^^^^^^^^^^^^^^^^^^^\n",
            "  File \"c:\\Users\\HP\\AppData\\Local\\Programs\\Python\\Python312\\Lib\\site-packages\\pip\\_internal\\resolution\\resolvelib\\candidates.py\", line 304, in _prepare_distribution\n",
            "    return preparer.prepare_linked_requirement(self._ireq, parallel_builds=True)\n",
            "           ^^^^^^^^^^^^^^^^^^^^^^^^^^^^^^^^^^^^^^^^^^^^^^^^^^^^^^^^^^^^^^^^^^^^^\n",
            "  File \"c:\\Users\\HP\\AppData\\Local\\Programs\\Python\\Python312\\Lib\\site-packages\\pip\\_internal\\operations\\prepare.py\", line 538, in prepare_linked_requirement\n",
            "    return self._prepare_linked_requirement(req, parallel_builds)\n",
            "           ^^^^^^^^^^^^^^^^^^^^^^^^^^^^^^^^^^^^^^^^^^^^^^^^^^^^^^\n",
            "  File \"c:\\Users\\HP\\AppData\\Local\\Programs\\Python\\Python312\\Lib\\site-packages\\pip\\_internal\\operations\\prepare.py\", line 653, in _prepare_linked_requirement\n",
            "    dist = _get_prepared_distribution(\n",
            "           ^^^^^^^^^^^^^^^^^^^^^^^^^^^\n",
            "  File \"c:\\Users\\HP\\AppData\\Local\\Programs\\Python\\Python312\\Lib\\site-packages\\pip\\_internal\\operations\\prepare.py\", line 69, in _get_prepared_distribution\n",
            "    abstract_dist.prepare_distribution_metadata(\n",
            "  File \"c:\\Users\\HP\\AppData\\Local\\Programs\\Python\\Python312\\Lib\\site-packages\\pip\\_internal\\distributions\\sdist.py\", line 48, in prepare_distribution_metadata\n",
            "    self._install_build_reqs(finder)\n",
            "  File \"c:\\Users\\HP\\AppData\\Local\\Programs\\Python\\Python312\\Lib\\site-packages\\pip\\_internal\\distributions\\sdist.py\", line 118, in _install_build_reqs\n",
            "    build_reqs = self._get_build_requires_wheel()\n",
            "                 ^^^^^^^^^^^^^^^^^^^^^^^^^^^^^^^^\n",
            "  File \"c:\\Users\\HP\\AppData\\Local\\Programs\\Python\\Python312\\Lib\\site-packages\\pip\\_internal\\distributions\\sdist.py\", line 95, in _get_build_requires_wheel\n",
            "    return backend.get_requires_for_build_wheel()\n",
            "           ^^^^^^^^^^^^^^^^^^^^^^^^^^^^^^^^^^^^^^\n",
            "  File \"c:\\Users\\HP\\AppData\\Local\\Programs\\Python\\Python312\\Lib\\site-packages\\pip\\_internal\\utils\\misc.py\", line 697, in get_requires_for_build_wheel\n",
            "    return super().get_requires_for_build_wheel(config_settings=cs)\n",
            "           ^^^^^^^^^^^^^^^^^^^^^^^^^^^^^^^^^^^^^^^^^^^^^^^^^^^^^^^^\n",
            "  File \"c:\\Users\\HP\\AppData\\Local\\Programs\\Python\\Python312\\Lib\\site-packages\\pip\\_vendor\\pyproject_hooks\\_impl.py\", line 166, in get_requires_for_build_wheel\n",
            "    return self._call_hook('get_requires_for_build_wheel', {\n",
            "           ^^^^^^^^^^^^^^^^^^^^^^^^^^^^^^^^^^^^^^^^^^^^^^^^^\n",
            "  File \"c:\\Users\\HP\\AppData\\Local\\Programs\\Python\\Python312\\Lib\\site-packages\\pip\\_vendor\\pyproject_hooks\\_impl.py\", line 321, in _call_hook\n",
            "    raise BackendUnavailable(data.get('traceback', ''))\n",
            "pip._vendor.pyproject_hooks._impl.BackendUnavailable: Traceback (most recent call last):\n",
            "  File \"c:\\Users\\HP\\AppData\\Local\\Programs\\Python\\Python312\\Lib\\site-packages\\pip\\_vendor\\pyproject_hooks\\_in_process\\_in_process.py\", line 77, in _build_backend\n",
            "    obj = import_module(mod_path)\n",
            "          ^^^^^^^^^^^^^^^^^^^^^^^\n",
            "  File \"c:\\Users\\HP\\AppData\\Local\\Programs\\Python\\Python312\\Lib\\importlib\\__init__.py\", line 90, in import_module\n",
            "    return _bootstrap._gcd_import(name[level:], package, level)\n",
            "           ^^^^^^^^^^^^^^^^^^^^^^^^^^^^^^^^^^^^^^^^^^^^^^^^^^^^\n",
            "  File \"<frozen importlib._bootstrap>\", line 1387, in _gcd_import\n",
            "  File \"<frozen importlib._bootstrap>\", line 1360, in _find_and_load\n",
            "  File \"<frozen importlib._bootstrap>\", line 1324, in _find_and_load_unlocked\n",
            "ModuleNotFoundError: No module named 'maturin'\n",
            "\n",
            "\n",
            "[notice] A new release of pip is available: 23.2.1 -> 24.0\n",
            "[notice] To update, run: python.exe -m pip install --upgrade pip\n"
          ]
        }
      ],
      "source": [
        "pip install underthesea"
      ]
    },
    {
      "cell_type": "code",
      "execution_count": null,
      "metadata": {
        "id": "ko0hw17Oe_6T"
      },
      "outputs": [],
      "source": [
        "import pandas as pd\n",
        "import numpy as np\n",
        "import matplotlib.pyplot as plt\n",
        "from underthesea import *\n",
        "import re"
      ]
    },
    {
      "cell_type": "code",
      "execution_count": null,
      "metadata": {
        "colab": {
          "base_uri": "https://localhost:8080/"
        },
        "id": "VJ2xAT_HgLTr",
        "outputId": "01f6028a-84ee-46e7-dd51-a2d1c86c3fe4"
      },
      "outputs": [
        {
          "name": "stdout",
          "output_type": "stream",
          "text": [
            "Drive already mounted at /content/drive; to attempt to forcibly remount, call drive.mount(\"/content/drive\", force_remount=True).\n"
          ]
        }
      ],
      "source": [
        "from google.colab import drive\n",
        "drive.mount('/content/drive')"
      ]
    },
    {
      "cell_type": "code",
      "execution_count": null,
      "metadata": {
        "colab": {
          "base_uri": "https://localhost:8080/",
          "height": 311
        },
        "id": "Se9TGz-9DffY",
        "outputId": "f8895aca-e961-4ffb-f22a-35b0e502d3a9"
      },
      "outputs": [
        {
          "name": "stdout",
          "output_type": "stream",
          "text": [
            "(261525, 7)\n"
          ]
        },
        {
          "data": {
            "application/vnd.google.colaboratory.intrinsic+json": {
              "type": "dataframe",
              "variable_name": "df"
            },
            "text/html": [
              "\n",
              "  <div id=\"df-4636205c-a99d-445b-b6b0-a9525413f93f\" class=\"colab-df-container\">\n",
              "    <div>\n",
              "<style scoped>\n",
              "    .dataframe tbody tr th:only-of-type {\n",
              "        vertical-align: middle;\n",
              "    }\n",
              "\n",
              "    .dataframe tbody tr th {\n",
              "        vertical-align: top;\n",
              "    }\n",
              "\n",
              "    .dataframe thead th {\n",
              "        text-align: right;\n",
              "    }\n",
              "</style>\n",
              "<table border=\"1\" class=\"dataframe\">\n",
              "  <thead>\n",
              "    <tr style=\"text-align: right;\">\n",
              "      <th></th>\n",
              "      <th>itemid</th>\n",
              "      <th>product_name</th>\n",
              "      <th>cmtid</th>\n",
              "      <th>author_username</th>\n",
              "      <th>time</th>\n",
              "      <th>comment</th>\n",
              "      <th>rating</th>\n",
              "    </tr>\n",
              "  </thead>\n",
              "  <tbody>\n",
              "    <tr>\n",
              "      <th>0</th>\n",
              "      <td>24252340802</td>\n",
              "      <td>[HÀNG SẴN - GIAO NHANH 2H]  Xúc xích cao cấp d...</td>\n",
              "      <td>14717091792</td>\n",
              "      <td>nguynthidng536</td>\n",
              "      <td>2024-03-30 16:38:01</td>\n",
              "      <td>Chất lượng sản phẩm:đắng không nên mua\\n\\nShip...</td>\n",
              "      <td>1</td>\n",
              "    </tr>\n",
              "    <tr>\n",
              "      <th>1</th>\n",
              "      <td>24252340802</td>\n",
              "      <td>[HÀNG SẴN - GIAO NHANH 2H]  Xúc xích cao cấp d...</td>\n",
              "      <td>14131482796</td>\n",
              "      <td>dinh_trong_hiep</td>\n",
              "      <td>2024-03-17 17:15:33</td>\n",
              "      <td>Gửi thiếu hàng, đặt xx giao súp thưởng, mình m...</td>\n",
              "      <td>1</td>\n",
              "    </tr>\n",
              "    <tr>\n",
              "      <th>2</th>\n",
              "      <td>24252340802</td>\n",
              "      <td>[HÀNG SẴN - GIAO NHANH 2H]  Xúc xích cao cấp d...</td>\n",
              "      <td>14278751782</td>\n",
              "      <td>mtl6camz1u</td>\n",
              "      <td>2024-03-09 00:54:24</td>\n",
              "      <td>Chất lượng sản phẩm:rất tệ\\nĐúng với mô tả:khô...</td>\n",
              "      <td>1</td>\n",
              "    </tr>\n",
              "    <tr>\n",
              "      <th>3</th>\n",
              "      <td>24252340802</td>\n",
              "      <td>[HÀNG SẴN - GIAO NHANH 2H]  Xúc xích cao cấp d...</td>\n",
              "      <td>14629947189</td>\n",
              "      <td>the_repus</td>\n",
              "      <td>2024-03-24 07:23:08</td>\n",
              "      <td>Đặt xúc xích mà ship cái qq này, đã v còn hết ...</td>\n",
              "      <td>1</td>\n",
              "    </tr>\n",
              "    <tr>\n",
              "      <th>4</th>\n",
              "      <td>24252340802</td>\n",
              "      <td>[HÀNG SẴN - GIAO NHANH 2H]  Xúc xích cao cấp d...</td>\n",
              "      <td>14879826473</td>\n",
              "      <td>ng.anh_1982</td>\n",
              "      <td>2024-04-15 07:36:43</td>\n",
              "      <td>Shop làm ăn bố láo, như quần què đặt 45 cây gi...</td>\n",
              "      <td>1</td>\n",
              "    </tr>\n",
              "  </tbody>\n",
              "</table>\n",
              "</div>\n",
              "    <div class=\"colab-df-buttons\">\n",
              "\n",
              "  <div class=\"colab-df-container\">\n",
              "    <button class=\"colab-df-convert\" onclick=\"convertToInteractive('df-4636205c-a99d-445b-b6b0-a9525413f93f')\"\n",
              "            title=\"Convert this dataframe to an interactive table.\"\n",
              "            style=\"display:none;\">\n",
              "\n",
              "  <svg xmlns=\"http://www.w3.org/2000/svg\" height=\"24px\" viewBox=\"0 -960 960 960\">\n",
              "    <path d=\"M120-120v-720h720v720H120Zm60-500h600v-160H180v160Zm220 220h160v-160H400v160Zm0 220h160v-160H400v160ZM180-400h160v-160H180v160Zm440 0h160v-160H620v160ZM180-180h160v-160H180v160Zm440 0h160v-160H620v160Z\"/>\n",
              "  </svg>\n",
              "    </button>\n",
              "\n",
              "  <style>\n",
              "    .colab-df-container {\n",
              "      display:flex;\n",
              "      gap: 12px;\n",
              "    }\n",
              "\n",
              "    .colab-df-convert {\n",
              "      background-color: #E8F0FE;\n",
              "      border: none;\n",
              "      border-radius: 50%;\n",
              "      cursor: pointer;\n",
              "      display: none;\n",
              "      fill: #1967D2;\n",
              "      height: 32px;\n",
              "      padding: 0 0 0 0;\n",
              "      width: 32px;\n",
              "    }\n",
              "\n",
              "    .colab-df-convert:hover {\n",
              "      background-color: #E2EBFA;\n",
              "      box-shadow: 0px 1px 2px rgba(60, 64, 67, 0.3), 0px 1px 3px 1px rgba(60, 64, 67, 0.15);\n",
              "      fill: #174EA6;\n",
              "    }\n",
              "\n",
              "    .colab-df-buttons div {\n",
              "      margin-bottom: 4px;\n",
              "    }\n",
              "\n",
              "    [theme=dark] .colab-df-convert {\n",
              "      background-color: #3B4455;\n",
              "      fill: #D2E3FC;\n",
              "    }\n",
              "\n",
              "    [theme=dark] .colab-df-convert:hover {\n",
              "      background-color: #434B5C;\n",
              "      box-shadow: 0px 1px 3px 1px rgba(0, 0, 0, 0.15);\n",
              "      filter: drop-shadow(0px 1px 2px rgba(0, 0, 0, 0.3));\n",
              "      fill: #FFFFFF;\n",
              "    }\n",
              "  </style>\n",
              "\n",
              "    <script>\n",
              "      const buttonEl =\n",
              "        document.querySelector('#df-4636205c-a99d-445b-b6b0-a9525413f93f button.colab-df-convert');\n",
              "      buttonEl.style.display =\n",
              "        google.colab.kernel.accessAllowed ? 'block' : 'none';\n",
              "\n",
              "      async function convertToInteractive(key) {\n",
              "        const element = document.querySelector('#df-4636205c-a99d-445b-b6b0-a9525413f93f');\n",
              "        const dataTable =\n",
              "          await google.colab.kernel.invokeFunction('convertToInteractive',\n",
              "                                                    [key], {});\n",
              "        if (!dataTable) return;\n",
              "\n",
              "        const docLinkHtml = 'Like what you see? Visit the ' +\n",
              "          '<a target=\"_blank\" href=https://colab.research.google.com/notebooks/data_table.ipynb>data table notebook</a>'\n",
              "          + ' to learn more about interactive tables.';\n",
              "        element.innerHTML = '';\n",
              "        dataTable['output_type'] = 'display_data';\n",
              "        await google.colab.output.renderOutput(dataTable, element);\n",
              "        const docLink = document.createElement('div');\n",
              "        docLink.innerHTML = docLinkHtml;\n",
              "        element.appendChild(docLink);\n",
              "      }\n",
              "    </script>\n",
              "  </div>\n",
              "\n",
              "\n",
              "<div id=\"df-069a5704-1e2a-45e1-9575-6df3cf561c9b\">\n",
              "  <button class=\"colab-df-quickchart\" onclick=\"quickchart('df-069a5704-1e2a-45e1-9575-6df3cf561c9b')\"\n",
              "            title=\"Suggest charts\"\n",
              "            style=\"display:none;\">\n",
              "\n",
              "<svg xmlns=\"http://www.w3.org/2000/svg\" height=\"24px\"viewBox=\"0 0 24 24\"\n",
              "     width=\"24px\">\n",
              "    <g>\n",
              "        <path d=\"M19 3H5c-1.1 0-2 .9-2 2v14c0 1.1.9 2 2 2h14c1.1 0 2-.9 2-2V5c0-1.1-.9-2-2-2zM9 17H7v-7h2v7zm4 0h-2V7h2v10zm4 0h-2v-4h2v4z\"/>\n",
              "    </g>\n",
              "</svg>\n",
              "  </button>\n",
              "\n",
              "<style>\n",
              "  .colab-df-quickchart {\n",
              "      --bg-color: #E8F0FE;\n",
              "      --fill-color: #1967D2;\n",
              "      --hover-bg-color: #E2EBFA;\n",
              "      --hover-fill-color: #174EA6;\n",
              "      --disabled-fill-color: #AAA;\n",
              "      --disabled-bg-color: #DDD;\n",
              "  }\n",
              "\n",
              "  [theme=dark] .colab-df-quickchart {\n",
              "      --bg-color: #3B4455;\n",
              "      --fill-color: #D2E3FC;\n",
              "      --hover-bg-color: #434B5C;\n",
              "      --hover-fill-color: #FFFFFF;\n",
              "      --disabled-bg-color: #3B4455;\n",
              "      --disabled-fill-color: #666;\n",
              "  }\n",
              "\n",
              "  .colab-df-quickchart {\n",
              "    background-color: var(--bg-color);\n",
              "    border: none;\n",
              "    border-radius: 50%;\n",
              "    cursor: pointer;\n",
              "    display: none;\n",
              "    fill: var(--fill-color);\n",
              "    height: 32px;\n",
              "    padding: 0;\n",
              "    width: 32px;\n",
              "  }\n",
              "\n",
              "  .colab-df-quickchart:hover {\n",
              "    background-color: var(--hover-bg-color);\n",
              "    box-shadow: 0 1px 2px rgba(60, 64, 67, 0.3), 0 1px 3px 1px rgba(60, 64, 67, 0.15);\n",
              "    fill: var(--button-hover-fill-color);\n",
              "  }\n",
              "\n",
              "  .colab-df-quickchart-complete:disabled,\n",
              "  .colab-df-quickchart-complete:disabled:hover {\n",
              "    background-color: var(--disabled-bg-color);\n",
              "    fill: var(--disabled-fill-color);\n",
              "    box-shadow: none;\n",
              "  }\n",
              "\n",
              "  .colab-df-spinner {\n",
              "    border: 2px solid var(--fill-color);\n",
              "    border-color: transparent;\n",
              "    border-bottom-color: var(--fill-color);\n",
              "    animation:\n",
              "      spin 1s steps(1) infinite;\n",
              "  }\n",
              "\n",
              "  @keyframes spin {\n",
              "    0% {\n",
              "      border-color: transparent;\n",
              "      border-bottom-color: var(--fill-color);\n",
              "      border-left-color: var(--fill-color);\n",
              "    }\n",
              "    20% {\n",
              "      border-color: transparent;\n",
              "      border-left-color: var(--fill-color);\n",
              "      border-top-color: var(--fill-color);\n",
              "    }\n",
              "    30% {\n",
              "      border-color: transparent;\n",
              "      border-left-color: var(--fill-color);\n",
              "      border-top-color: var(--fill-color);\n",
              "      border-right-color: var(--fill-color);\n",
              "    }\n",
              "    40% {\n",
              "      border-color: transparent;\n",
              "      border-right-color: var(--fill-color);\n",
              "      border-top-color: var(--fill-color);\n",
              "    }\n",
              "    60% {\n",
              "      border-color: transparent;\n",
              "      border-right-color: var(--fill-color);\n",
              "    }\n",
              "    80% {\n",
              "      border-color: transparent;\n",
              "      border-right-color: var(--fill-color);\n",
              "      border-bottom-color: var(--fill-color);\n",
              "    }\n",
              "    90% {\n",
              "      border-color: transparent;\n",
              "      border-bottom-color: var(--fill-color);\n",
              "    }\n",
              "  }\n",
              "</style>\n",
              "\n",
              "  <script>\n",
              "    async function quickchart(key) {\n",
              "      const quickchartButtonEl =\n",
              "        document.querySelector('#' + key + ' button');\n",
              "      quickchartButtonEl.disabled = true;  // To prevent multiple clicks.\n",
              "      quickchartButtonEl.classList.add('colab-df-spinner');\n",
              "      try {\n",
              "        const charts = await google.colab.kernel.invokeFunction(\n",
              "            'suggestCharts', [key], {});\n",
              "      } catch (error) {\n",
              "        console.error('Error during call to suggestCharts:', error);\n",
              "      }\n",
              "      quickchartButtonEl.classList.remove('colab-df-spinner');\n",
              "      quickchartButtonEl.classList.add('colab-df-quickchart-complete');\n",
              "    }\n",
              "    (() => {\n",
              "      let quickchartButtonEl =\n",
              "        document.querySelector('#df-069a5704-1e2a-45e1-9575-6df3cf561c9b button');\n",
              "      quickchartButtonEl.style.display =\n",
              "        google.colab.kernel.accessAllowed ? 'block' : 'none';\n",
              "    })();\n",
              "  </script>\n",
              "</div>\n",
              "\n",
              "    </div>\n",
              "  </div>\n"
            ],
            "text/plain": [
              "        itemid                                       product_name  \\\n",
              "0  24252340802  [HÀNG SẴN - GIAO NHANH 2H]  Xúc xích cao cấp d...   \n",
              "1  24252340802  [HÀNG SẴN - GIAO NHANH 2H]  Xúc xích cao cấp d...   \n",
              "2  24252340802  [HÀNG SẴN - GIAO NHANH 2H]  Xúc xích cao cấp d...   \n",
              "3  24252340802  [HÀNG SẴN - GIAO NHANH 2H]  Xúc xích cao cấp d...   \n",
              "4  24252340802  [HÀNG SẴN - GIAO NHANH 2H]  Xúc xích cao cấp d...   \n",
              "\n",
              "         cmtid  author_username                 time  \\\n",
              "0  14717091792   nguynthidng536  2024-03-30 16:38:01   \n",
              "1  14131482796  dinh_trong_hiep  2024-03-17 17:15:33   \n",
              "2  14278751782       mtl6camz1u  2024-03-09 00:54:24   \n",
              "3  14629947189        the_repus  2024-03-24 07:23:08   \n",
              "4  14879826473      ng.anh_1982  2024-04-15 07:36:43   \n",
              "\n",
              "                                             comment  rating  \n",
              "0  Chất lượng sản phẩm:đắng không nên mua\\n\\nShip...       1  \n",
              "1  Gửi thiếu hàng, đặt xx giao súp thưởng, mình m...       1  \n",
              "2  Chất lượng sản phẩm:rất tệ\\nĐúng với mô tả:khô...       1  \n",
              "3  Đặt xúc xích mà ship cái qq này, đã v còn hết ...       1  \n",
              "4  Shop làm ăn bố láo, như quần què đặt 45 cây gi...       1  "
            ]
          },
          "execution_count": 44,
          "metadata": {},
          "output_type": "execute_result"
        }
      ],
      "source": [
        "df = pd.read_csv('/content/sample_data/Chăm-Sóc-Thú-Cưng.csv')\n",
        "print(df.shape)\n",
        "df.head()"
      ]
    },
    {
      "cell_type": "code",
      "execution_count": null,
      "metadata": {
        "colab": {
          "base_uri": "https://localhost:8080/"
        },
        "id": "CkoUDSmIE8NS",
        "outputId": "4011d2c6-4b94-4566-fa35-2ec530372c6e"
      },
      "outputs": [
        {
          "name": "stdout",
          "output_type": "stream",
          "text": [
            "<class 'pandas.core.frame.DataFrame'>\n",
            "RangeIndex: 261525 entries, 0 to 261524\n",
            "Data columns (total 7 columns):\n",
            " #   Column           Non-Null Count   Dtype \n",
            "---  ------           --------------   ----- \n",
            " 0   itemid           261525 non-null  int64 \n",
            " 1   product_name     261525 non-null  object\n",
            " 2   cmtid            261525 non-null  int64 \n",
            " 3   author_username  258653 non-null  object\n",
            " 4   time             261525 non-null  object\n",
            " 5   comment          261471 non-null  object\n",
            " 6   rating           261525 non-null  int64 \n",
            "dtypes: int64(3), object(4)\n",
            "memory usage: 14.0+ MB\n"
          ]
        }
      ],
      "source": [
        "df.info()"
      ]
    },
    {
      "cell_type": "code",
      "execution_count": null,
      "metadata": {
        "colab": {
          "base_uri": "https://localhost:8080/"
        },
        "id": "CuFyfuI1URp0",
        "outputId": "0d563721-b283-42c8-9ed6-d6391cccbf44"
      },
      "outputs": [
        {
          "data": {
            "text/plain": [
              "itemid                0\n",
              "product_name          0\n",
              "cmtid                 0\n",
              "author_username    2872\n",
              "time                  0\n",
              "comment              54\n",
              "rating                0\n",
              "dtype: int64"
            ]
          },
          "execution_count": 46,
          "metadata": {},
          "output_type": "execute_result"
        }
      ],
      "source": [
        "df.isnull().sum()"
      ]
    },
    {
      "cell_type": "code",
      "execution_count": null,
      "metadata": {
        "colab": {
          "base_uri": "https://localhost:8080/",
          "height": 467
        },
        "id": "WHKgGMCzX1Kk",
        "outputId": "05606e76-ef32-4f86-e160-6512dc5b0346"
      },
      "outputs": [
        {
          "data": {
            "image/png": "[encoded data removed]",
            "text/plain": [
              "<Figure size 640x480 with 1 Axes>"
            ]
          },
          "metadata": {},
          "output_type": "display_data"
        }
      ],
      "source": [
        "# prompt: count the amount of each value in rating column\n",
        "\n",
        "ax = df['rating'].value_counts().sort_index() \\\n",
        "  .plot(kind=\"bar\",\n",
        "        title=\"Count of Reviews by score\")\n",
        "ax.set_xlabel('Review rating')\n",
        "plt.show()"
      ]
    },
    {
      "cell_type": "code",
      "execution_count": null,
      "metadata": {
        "colab": {
          "base_uri": "https://localhost:8080/"
        },
        "id": "OOSBnWNPIVkf",
        "outputId": "79c3ccc6-9155-4c14-bdac-2c13b332cda2"
      },
      "outputs": [
        {
          "data": {
            "text/plain": [
              "(261525, 7)"
            ]
          },
          "execution_count": 49,
          "metadata": {},
          "output_type": "execute_result"
        }
      ],
      "source": [
        "df.shape"
      ]
    },
    {
      "cell_type": "markdown",
      "metadata": {
        "id": "4WmRDU1kqF_A"
      },
      "source": [
        "## Basic NLTK"
      ]
    },
    {
      "cell_type": "code",
      "execution_count": null,
      "metadata": {
        "colab": {
          "base_uri": "https://localhost:8080/",
          "height": 535
        },
        "id": "zCF5dytcA22T",
        "outputId": "3174845c-6f22-420e-f334-661dae584aca"
      },
      "outputs": [
        {
          "name": "stdout",
          "output_type": "stream",
          "text": [
            "Chất lượng sản phẩm:đắng không nên mua\n",
            "\n",
            "Shipper thân thiện nhưng xúc xích đắng chả ăn đc\n",
            "['Chất lượng', 'sản phẩm', ':', 'đắng', 'không', 'nên', 'mua', 'Shipper', 'thân thiện', 'nhưng', 'xúc xích', 'đắng', 'chả', 'ăn', 'đc']\n",
            "[('Chất lượng', 'N'), ('sản phẩm', 'N'), (':', 'CH'), ('đắng', 'A'), ('không', 'R'), ('nên', 'V'), ('mua', 'V'), ('Shipper', 'Np'), ('thân thiện', 'V'), ('nhưng', 'C')]\n",
            "[('Chất lượng', 'N', 'B-NP'), ('sản phẩm', 'N', 'B-NP'), (':', 'CH', 'O'), ('đắng', 'A', 'B-AP'), ('không', 'R', 'O'), ('nên', 'V', 'B-VP'), ('mua', 'V', 'B-VP'), ('Shipper', 'Np', 'B-NP'), ('thân thiện', 'V', 'B-VP'), ('nhưng', 'C', 'O'), ('xúc xích', 'N', 'B-NP'), ('đắng', 'A', 'B-AP'), ('chả', 'R', 'O'), ('ăn', 'V', 'B-VP'), ('đc', 'M', 'B-NP')]\n",
            "2024-05-12 10:42:40,867 https://github.com/undertheseanlp/playground/releases/download/1.3.x/tc_svm_vntc_20201228.zip not found in cache, downloading to /tmp/tmp54s_i6c9\n"
          ]
        },
        {
          "name": "stderr",
          "output_type": "stream",
          "text": [
            "100%|██████████| 75578053/75578053 [00:01<00:00, 43587248.38B/s]"
          ]
        },
        {
          "name": "stdout",
          "output_type": "stream",
          "text": [
            "2024-05-12 10:42:43,260 copying /tmp/tmp54s_i6c9 to cache at /root/.underthesea/models/tc_svm_vntc_20201228.zip\n"
          ]
        },
        {
          "name": "stderr",
          "output_type": "stream",
          "text": [
            "\n"
          ]
        },
        {
          "name": "stdout",
          "output_type": "stream",
          "text": [
            "2024-05-12 10:42:43,468 removing temp file /tmp/tmp54s_i6c9\n"
          ]
        },
        {
          "ename": "KeyboardInterrupt",
          "evalue": "",
          "output_type": "error",
          "traceback": [
            "\u001b[0;31m---------------------------------------------------------------------------\u001b[0m",
            "\u001b[0;31mKeyboardInterrupt\u001b[0m                         Traceback (most recent call last)",
            "\u001b[0;32m<ipython-input-104-b5c860d5d92f>\u001b[0m in \u001b[0;36m<cell line: 9>\u001b[0;34m()\u001b[0m\n\u001b[1;32m      7\u001b[0m \u001b[0mentities\u001b[0m \u001b[0;34m=\u001b[0m \u001b[0mchunk\u001b[0m\u001b[0;34m(\u001b[0m\u001b[0mexample\u001b[0m\u001b[0;34m)\u001b[0m\u001b[0;34m\u001b[0m\u001b[0;34m\u001b[0m\u001b[0m\n\u001b[1;32m      8\u001b[0m \u001b[0mprint\u001b[0m\u001b[0;34m(\u001b[0m\u001b[0mentities\u001b[0m\u001b[0;34m)\u001b[0m\u001b[0;34m\u001b[0m\u001b[0;34m\u001b[0m\u001b[0m\n\u001b[0;32m----> 9\u001b[0;31m \u001b[0mclassify\u001b[0m\u001b[0;34m(\u001b[0m\u001b[0mexample\u001b[0m\u001b[0;34m)\u001b[0m\u001b[0;34m\u001b[0m\u001b[0;34m\u001b[0m\u001b[0m\n\u001b[0m",
            "\u001b[0;32m/usr/local/lib/python3.10/dist-packages/underthesea/pipeline/classification/__init__.py\u001b[0m in \u001b[0;36mclassify\u001b[0;34m(X, domain, model)\u001b[0m\n\u001b[1;32m     35\u001b[0m \u001b[0;34m\u001b[0m\u001b[0m\n\u001b[1;32m     36\u001b[0m     \u001b[0;32mfrom\u001b[0m \u001b[0munderthesea\u001b[0m\u001b[0;34m.\u001b[0m\u001b[0mpipeline\u001b[0m\u001b[0;34m.\u001b[0m\u001b[0mclassification\u001b[0m \u001b[0;32mimport\u001b[0m \u001b[0mvntc\u001b[0m\u001b[0;34m\u001b[0m\u001b[0;34m\u001b[0m\u001b[0m\n\u001b[0;32m---> 37\u001b[0;31m     \u001b[0;32mreturn\u001b[0m \u001b[0mvntc\u001b[0m\u001b[0;34m.\u001b[0m\u001b[0mclassify\u001b[0m\u001b[0;34m(\u001b[0m\u001b[0mX\u001b[0m\u001b[0;34m)\u001b[0m\u001b[0;34m\u001b[0m\u001b[0;34m\u001b[0m\u001b[0m\n\u001b[0m",
            "\u001b[0;32m/usr/local/lib/python3.10/dist-packages/underthesea/pipeline/classification/vntc/__init__.py\u001b[0m in \u001b[0;36mclassify\u001b[0;34m(X)\u001b[0m\n\u001b[1;32m     17\u001b[0m     \u001b[0;32mif\u001b[0m \u001b[0;32mnot\u001b[0m \u001b[0mclassifier\u001b[0m\u001b[0;34m:\u001b[0m\u001b[0;34m\u001b[0m\u001b[0;34m\u001b[0m\u001b[0m\n\u001b[1;32m     18\u001b[0m         \u001b[0;32mif\u001b[0m \u001b[0;32mnot\u001b[0m \u001b[0mos\u001b[0m\u001b[0;34m.\u001b[0m\u001b[0mpath\u001b[0m\u001b[0;34m.\u001b[0m\u001b[0mexists\u001b[0m\u001b[0;34m(\u001b[0m\u001b[0mmodel_path\u001b[0m\u001b[0;34m)\u001b[0m\u001b[0;34m:\u001b[0m\u001b[0;34m\u001b[0m\u001b[0;34m\u001b[0m\u001b[0m\n\u001b[0;32m---> 19\u001b[0;31m             \u001b[0mModelFetcher\u001b[0m\u001b[0;34m.\u001b[0m\u001b[0mdownload\u001b[0m\u001b[0;34m(\u001b[0m\u001b[0mmodel_name\u001b[0m\u001b[0;34m)\u001b[0m\u001b[0;34m\u001b[0m\u001b[0;34m\u001b[0m\u001b[0m\n\u001b[0m\u001b[1;32m     20\u001b[0m         \u001b[0mclassifier\u001b[0m \u001b[0;34m=\u001b[0m \u001b[0mTextClassifier\u001b[0m\u001b[0;34m.\u001b[0m\u001b[0mload\u001b[0m\u001b[0;34m(\u001b[0m\u001b[0mmodel_path\u001b[0m\u001b[0;34m)\u001b[0m\u001b[0;34m\u001b[0m\u001b[0;34m\u001b[0m\u001b[0m\n\u001b[1;32m     21\u001b[0m \u001b[0;34m\u001b[0m\u001b[0m\n",
            "\u001b[0;32m/usr/local/lib/python3.10/dist-packages/underthesea/model_fetcher.py\u001b[0m in \u001b[0;36mdownload\u001b[0;34m(model_name)\u001b[0m\n\u001b[1;32m     71\u001b[0m             \u001b[0mcache_folder\u001b[0m \u001b[0;34m=\u001b[0m \u001b[0mPath\u001b[0m\u001b[0;34m(\u001b[0m\u001b[0mUNDERTHESEA_FOLDER\u001b[0m\u001b[0;34m)\u001b[0m \u001b[0;34m/\u001b[0m \u001b[0mcache_dir\u001b[0m\u001b[0;34m\u001b[0m\u001b[0;34m\u001b[0m\u001b[0m\n\u001b[1;32m     72\u001b[0m             \u001b[0;32mwith\u001b[0m \u001b[0mzipfile\u001b[0m\u001b[0;34m.\u001b[0m\u001b[0mZipFile\u001b[0m\u001b[0;34m(\u001b[0m\u001b[0mmodel_path\u001b[0m\u001b[0;34m)\u001b[0m \u001b[0;32mas\u001b[0m \u001b[0mzip_file\u001b[0m\u001b[0;34m:\u001b[0m\u001b[0;34m\u001b[0m\u001b[0;34m\u001b[0m\u001b[0m\n\u001b[0;32m---> 73\u001b[0;31m                 \u001b[0mzip_file\u001b[0m\u001b[0;34m.\u001b[0m\u001b[0mextractall\u001b[0m\u001b[0;34m(\u001b[0m\u001b[0mcache_folder\u001b[0m\u001b[0;34m)\u001b[0m\u001b[0;34m\u001b[0m\u001b[0;34m\u001b[0m\u001b[0m\n\u001b[0m\u001b[1;32m     74\u001b[0m             os.rename(\n\u001b[1;32m     75\u001b[0m                 \u001b[0mPath\u001b[0m\u001b[0;34m(\u001b[0m\u001b[0mUNDERTHESEA_FOLDER\u001b[0m\u001b[0;34m)\u001b[0m \u001b[0;34m/\u001b[0m \u001b[0mcache_dir\u001b[0m \u001b[0;34m/\u001b[0m \u001b[0;34m\"tc_svm_vntc_20201228\"\u001b[0m\u001b[0;34m,\u001b[0m\u001b[0;34m\u001b[0m\u001b[0;34m\u001b[0m\u001b[0m\n",
            "\u001b[0;32m/usr/lib/python3.10/zipfile.py\u001b[0m in \u001b[0;36mextractall\u001b[0;34m(self, path, members, pwd)\u001b[0m\n\u001b[1;32m   1645\u001b[0m \u001b[0;34m\u001b[0m\u001b[0m\n\u001b[1;32m   1646\u001b[0m         \u001b[0;32mfor\u001b[0m \u001b[0mzipinfo\u001b[0m \u001b[0;32min\u001b[0m \u001b[0mmembers\u001b[0m\u001b[0;34m:\u001b[0m\u001b[0;34m\u001b[0m\u001b[0;34m\u001b[0m\u001b[0m\n\u001b[0;32m-> 1647\u001b[0;31m             \u001b[0mself\u001b[0m\u001b[0;34m.\u001b[0m\u001b[0m_extract_member\u001b[0m\u001b[0;34m(\u001b[0m\u001b[0mzipinfo\u001b[0m\u001b[0;34m,\u001b[0m \u001b[0mpath\u001b[0m\u001b[0;34m,\u001b[0m \u001b[0mpwd\u001b[0m\u001b[0;34m)\u001b[0m\u001b[0;34m\u001b[0m\u001b[0;34m\u001b[0m\u001b[0m\n\u001b[0m\u001b[1;32m   1648\u001b[0m \u001b[0;34m\u001b[0m\u001b[0m\n\u001b[1;32m   1649\u001b[0m     \u001b[0;34m@\u001b[0m\u001b[0mclassmethod\u001b[0m\u001b[0;34m\u001b[0m\u001b[0;34m\u001b[0m\u001b[0m\n",
            "\u001b[0;32m/usr/lib/python3.10/zipfile.py\u001b[0m in \u001b[0;36m_extract_member\u001b[0;34m(self, member, targetpath, pwd)\u001b[0m\n\u001b[1;32m   1700\u001b[0m         \u001b[0;32mwith\u001b[0m \u001b[0mself\u001b[0m\u001b[0;34m.\u001b[0m\u001b[0mopen\u001b[0m\u001b[0;34m(\u001b[0m\u001b[0mmember\u001b[0m\u001b[0;34m,\u001b[0m \u001b[0mpwd\u001b[0m\u001b[0;34m=\u001b[0m\u001b[0mpwd\u001b[0m\u001b[0;34m)\u001b[0m \u001b[0;32mas\u001b[0m \u001b[0msource\u001b[0m\u001b[0;34m,\u001b[0m\u001b[0;31m \u001b[0m\u001b[0;31m\\\u001b[0m\u001b[0;34m\u001b[0m\u001b[0;34m\u001b[0m\u001b[0m\n\u001b[1;32m   1701\u001b[0m              \u001b[0mopen\u001b[0m\u001b[0;34m(\u001b[0m\u001b[0mtargetpath\u001b[0m\u001b[0;34m,\u001b[0m \u001b[0;34m\"wb\"\u001b[0m\u001b[0;34m)\u001b[0m \u001b[0;32mas\u001b[0m \u001b[0mtarget\u001b[0m\u001b[0;34m:\u001b[0m\u001b[0;34m\u001b[0m\u001b[0;34m\u001b[0m\u001b[0m\n\u001b[0;32m-> 1702\u001b[0;31m             \u001b[0mshutil\u001b[0m\u001b[0;34m.\u001b[0m\u001b[0mcopyfileobj\u001b[0m\u001b[0;34m(\u001b[0m\u001b[0msource\u001b[0m\u001b[0;34m,\u001b[0m \u001b[0mtarget\u001b[0m\u001b[0;34m)\u001b[0m\u001b[0;34m\u001b[0m\u001b[0;34m\u001b[0m\u001b[0m\n\u001b[0m\u001b[1;32m   1703\u001b[0m \u001b[0;34m\u001b[0m\u001b[0m\n\u001b[1;32m   1704\u001b[0m         \u001b[0;32mreturn\u001b[0m \u001b[0mtargetpath\u001b[0m\u001b[0;34m\u001b[0m\u001b[0;34m\u001b[0m\u001b[0m\n",
            "\u001b[0;32m/usr/lib/python3.10/shutil.py\u001b[0m in \u001b[0;36mcopyfileobj\u001b[0;34m(fsrc, fdst, length)\u001b[0m\n\u001b[1;32m    196\u001b[0m         \u001b[0;32mif\u001b[0m \u001b[0;32mnot\u001b[0m \u001b[0mbuf\u001b[0m\u001b[0;34m:\u001b[0m\u001b[0;34m\u001b[0m\u001b[0;34m\u001b[0m\u001b[0m\n\u001b[1;32m    197\u001b[0m             \u001b[0;32mbreak\u001b[0m\u001b[0;34m\u001b[0m\u001b[0;34m\u001b[0m\u001b[0m\n\u001b[0;32m--> 198\u001b[0;31m         \u001b[0mfdst_write\u001b[0m\u001b[0;34m(\u001b[0m\u001b[0mbuf\u001b[0m\u001b[0;34m)\u001b[0m\u001b[0;34m\u001b[0m\u001b[0;34m\u001b[0m\u001b[0m\n\u001b[0m\u001b[1;32m    199\u001b[0m \u001b[0;34m\u001b[0m\u001b[0m\n\u001b[1;32m    200\u001b[0m \u001b[0;32mdef\u001b[0m \u001b[0m_samefile\u001b[0m\u001b[0;34m(\u001b[0m\u001b[0msrc\u001b[0m\u001b[0;34m,\u001b[0m \u001b[0mdst\u001b[0m\u001b[0;34m)\u001b[0m\u001b[0;34m:\u001b[0m\u001b[0;34m\u001b[0m\u001b[0;34m\u001b[0m\u001b[0m\n",
            "\u001b[0;31mKeyboardInterrupt\u001b[0m: "
          ]
        }
      ],
      "source": [
        "# prompt: write code to get all rows which product_name's value = \"[HÀNG SẴN - GIAO NHANH 2H]\"\n",
        "example = df['comment'][0]\n",
        "print(example)\n",
        "print(word_tokenize(example))\n",
        "tagged = pos_tag(example)\n",
        "print(tagged[:10])\n",
        "entities = chunk(example)\n",
        "print(entities)\n",
        "classify(example)"
      ]
    },
    {
      "cell_type": "markdown",
      "metadata": {
        "id": "pjaphpIBpKY7"
      },
      "source": [
        "## Data cleaning and preprocessing\n"
      ]
    },
    {
      "cell_type": "markdown",
      "metadata": {
        "id": "B6qb6KfapZa9"
      },
      "source": [
        "**Remove duplicated comments**"
      ]
    },
    {
      "cell_type": "code",
      "execution_count": null,
      "metadata": {
        "colab": {
          "base_uri": "https://localhost:8080/"
        },
        "id": "kdOpm90EYAl9",
        "outputId": "caf8b5aa-791a-4414-9177-2d28d5b0c319"
      },
      "outputs": [
        {
          "name": "stdout",
          "output_type": "stream",
          "text": [
            "<class 'pandas.core.frame.DataFrame'>\n",
            "RangeIndex: 261525 entries, 0 to 261524\n",
            "Data columns (total 7 columns):\n",
            " #   Column           Non-Null Count   Dtype \n",
            "---  ------           --------------   ----- \n",
            " 0   itemid           261525 non-null  int64 \n",
            " 1   product_name     261525 non-null  object\n",
            " 2   cmtid            261525 non-null  int64 \n",
            " 3   author_username  258653 non-null  object\n",
            " 4   time             261525 non-null  object\n",
            " 5   comment          261471 non-null  object\n",
            " 6   rating           261525 non-null  int64 \n",
            "dtypes: int64(3), object(4)\n",
            "memory usage: 14.0+ MB\n"
          ]
        }
      ],
      "source": [
        "df.info()"
      ]
    },
    {
      "cell_type": "code",
      "execution_count": null,
      "metadata": {
        "colab": {
          "base_uri": "https://localhost:8080/"
        },
        "id": "F9Hd2OAlo3y6",
        "outputId": "97c3d24a-9dd0-4427-e447-456ef3c3e8b0"
      },
      "outputs": [
        {
          "data": {
            "text/plain": [
              "(24869, 7)"
            ]
          },
          "execution_count": 51,
          "metadata": {},
          "output_type": "execute_result"
        }
      ],
      "source": [
        "#Count duplicated comment\n",
        "duplicated_fields = ['itemid','author_username', 'time', 'comment']\n",
        "df[df.duplicated(duplicated_fields)].shape\n"
      ]
    },
    {
      "cell_type": "code",
      "execution_count": null,
      "metadata": {
        "id": "puM-Rgduq_m9"
      },
      "outputs": [],
      "source": [
        "# prompt: group rows by itemid\n",
        "df.drop_duplicates(duplicated_fields, inplace=True)"
      ]
    },
    {
      "cell_type": "code",
      "execution_count": null,
      "metadata": {
        "id": "KoMzvu4tyOC2"
      },
      "outputs": [],
      "source": [
        "#Reindex dataframe\n",
        "df.reset_index(drop=True, inplace=True)"
      ]
    },
    {
      "cell_type": "code",
      "execution_count": null,
      "metadata": {
        "colab": {
          "base_uri": "https://localhost:8080/"
        },
        "id": "knSwp7_TyWUi",
        "outputId": "f2385f4b-f653-449a-9c0c-93a1b99b74c3"
      },
      "outputs": [
        {
          "data": {
            "text/plain": [
              "(236656, 7)"
            ]
          },
          "execution_count": 54,
          "metadata": {},
          "output_type": "execute_result"
        }
      ],
      "source": [
        "df.shape"
      ]
    },
    {
      "cell_type": "code",
      "execution_count": null,
      "metadata": {
        "colab": {
          "base_uri": "https://localhost:8080/"
        },
        "id": "8zhFyTV4ZTsn",
        "outputId": "d43002fb-9163-44cf-f3fe-18eea2af5022"
      },
      "outputs": [
        {
          "data": {
            "text/plain": [
              "(0, 7)"
            ]
          },
          "execution_count": 55,
          "metadata": {},
          "output_type": "execute_result"
        }
      ],
      "source": [
        "#Count duplicated comment\n",
        "duplicated_fields = ['itemid','author_username', 'time', 'comment']\n",
        "df[df.duplicated(duplicated_fields)].shape\n"
      ]
    },
    {
      "cell_type": "code",
      "execution_count": null,
      "metadata": {
        "id": "cmpCamRNIpU7"
      },
      "outputs": [],
      "source": [
        "df['author_username'].fillna('No username provided', inplace=True)"
      ]
    },
    {
      "cell_type": "code",
      "execution_count": null,
      "metadata": {
        "id": "38OByDkzRxpa"
      },
      "outputs": [],
      "source": [
        "# prompt: delete rows having comment null\n",
        "\n",
        "df.dropna(subset=['comment'], inplace=True)\n"
      ]
    },
    {
      "cell_type": "code",
      "execution_count": null,
      "metadata": {
        "colab": {
          "base_uri": "https://localhost:8080/"
        },
        "id": "lknbWVRgyocE",
        "outputId": "8dd67850-1a72-4def-9dbf-3f677af9a03f"
      },
      "outputs": [
        {
          "data": {
            "text/plain": [
              "rating\n",
              "1      3542\n",
              "2      1688\n",
              "3      3875\n",
              "4      8856\n",
              "5    218654\n",
              "Name: count, dtype: int64"
            ]
          },
          "execution_count": 58,
          "metadata": {},
          "output_type": "execute_result"
        }
      ],
      "source": [
        "#Check comments for each score\n",
        "df['rating'].value_counts().sort_index()"
      ]
    },
    {
      "cell_type": "code",
      "execution_count": null,
      "metadata": {
        "id": "aKLd7pAdzHdP"
      },
      "outputs": [],
      "source": [
        "# Rename the columns to lowercase and use underscores\n",
        "df.rename(columns={'itemid': 'item_id',\n",
        "                        'cmtid': 'cmt_id'},\n",
        "              inplace=True)"
      ]
    },
    {
      "cell_type": "code",
      "execution_count": null,
      "metadata": {
        "colab": {
          "base_uri": "https://localhost:8080/"
        },
        "id": "e10DTrypziW3",
        "outputId": "b9b7eb14-af2c-485d-8513-01ac1fd893bd"
      },
      "outputs": [
        {
          "name": "stdout",
          "output_type": "stream",
          "text": [
            "<class 'pandas.core.frame.DataFrame'>\n",
            "Index: 236615 entries, 0 to 236655\n",
            "Data columns (total 7 columns):\n",
            " #   Column           Non-Null Count   Dtype \n",
            "---  ------           --------------   ----- \n",
            " 0   item_id          236615 non-null  int64 \n",
            " 1   product_name     236615 non-null  object\n",
            " 2   cmt_id           236615 non-null  int64 \n",
            " 3   author_username  236615 non-null  object\n",
            " 4   time             236615 non-null  object\n",
            " 5   comment          236615 non-null  object\n",
            " 6   rating           236615 non-null  int64 \n",
            "dtypes: int64(3), object(4)\n",
            "memory usage: 14.4+ MB\n"
          ]
        }
      ],
      "source": [
        "df.info()"
      ]
    },
    {
      "cell_type": "markdown",
      "metadata": {
        "id": "-HyRp2G-z2so"
      },
      "source": [
        "**Create a target variable**\n",
        "The goal is to classify positive and negative app reviews. Negative reviews can reveal critical features that are missing from Shopee's app or even bring to light the presence of bugs on the app. This will require immediate action from Shopee. As such, priority will be placed on the prediction of negative sentiment. We will assign the negative reviews (scores 1-3) to class 1, and the positive reviews (scores 4-5) to class 0.\n",
        "\n"
      ]
    },
    {
      "cell_type": "code",
      "execution_count": null,
      "metadata": {
        "id": "Vgx_Wf9f0AHU"
      },
      "outputs": [],
      "source": [
        "# Defining the target variable using scores\n",
        "df['target'] = df['rating'].map(lambda x: 1 if x < 4 else 0)"
      ]
    },
    {
      "cell_type": "code",
      "execution_count": null,
      "metadata": {
        "colab": {
          "base_uri": "https://localhost:8080/"
        },
        "id": "5HD3dj-G0MLT",
        "outputId": "30ec3878-d584-4efe-bb9d-1aede754d6e1"
      },
      "outputs": [
        {
          "data": {
            "text/plain": [
              "target\n",
              "0    227510\n",
              "1      9105\n",
              "Name: count, dtype: int64"
            ]
          },
          "execution_count": 62,
          "metadata": {},
          "output_type": "execute_result"
        }
      ],
      "source": [
        "df['target'].value_counts()"
      ]
    },
    {
      "cell_type": "code",
      "execution_count": null,
      "metadata": {
        "colab": {
          "base_uri": "https://localhost:8080/",
          "height": 293
        },
        "id": "IQsdbimW0YRY",
        "outputId": "8976c499-6f80-4a1b-d56b-8e1964b1223a"
      },
      "outputs": [
        {
          "data": {
            "application/vnd.google.colaboratory.intrinsic+json": {
              "type": "dataframe",
              "variable_name": "df"
            },
            "text/html": [
              "\n",
              "  <div id=\"df-6eaaeed2-d559-4a37-b639-736b4a40cbec\" class=\"colab-df-container\">\n",
              "    <div>\n",
              "<style scoped>\n",
              "    .dataframe tbody tr th:only-of-type {\n",
              "        vertical-align: middle;\n",
              "    }\n",
              "\n",
              "    .dataframe tbody tr th {\n",
              "        vertical-align: top;\n",
              "    }\n",
              "\n",
              "    .dataframe thead th {\n",
              "        text-align: right;\n",
              "    }\n",
              "</style>\n",
              "<table border=\"1\" class=\"dataframe\">\n",
              "  <thead>\n",
              "    <tr style=\"text-align: right;\">\n",
              "      <th></th>\n",
              "      <th>item_id</th>\n",
              "      <th>product_name</th>\n",
              "      <th>cmt_id</th>\n",
              "      <th>author_username</th>\n",
              "      <th>time</th>\n",
              "      <th>comment</th>\n",
              "      <th>rating</th>\n",
              "      <th>target</th>\n",
              "    </tr>\n",
              "  </thead>\n",
              "  <tbody>\n",
              "    <tr>\n",
              "      <th>0</th>\n",
              "      <td>24252340802</td>\n",
              "      <td>[HÀNG SẴN - GIAO NHANH 2H]  Xúc xích cao cấp d...</td>\n",
              "      <td>14717091792</td>\n",
              "      <td>nguynthidng536</td>\n",
              "      <td>2024-03-30 16:38:01</td>\n",
              "      <td>Chất lượng sản phẩm:đắng không nên mua\\n\\nShip...</td>\n",
              "      <td>1</td>\n",
              "      <td>1</td>\n",
              "    </tr>\n",
              "    <tr>\n",
              "      <th>1</th>\n",
              "      <td>24252340802</td>\n",
              "      <td>[HÀNG SẴN - GIAO NHANH 2H]  Xúc xích cao cấp d...</td>\n",
              "      <td>14131482796</td>\n",
              "      <td>dinh_trong_hiep</td>\n",
              "      <td>2024-03-17 17:15:33</td>\n",
              "      <td>Gửi thiếu hàng, đặt xx giao súp thưởng, mình m...</td>\n",
              "      <td>1</td>\n",
              "      <td>1</td>\n",
              "    </tr>\n",
              "    <tr>\n",
              "      <th>2</th>\n",
              "      <td>24252340802</td>\n",
              "      <td>[HÀNG SẴN - GIAO NHANH 2H]  Xúc xích cao cấp d...</td>\n",
              "      <td>14278751782</td>\n",
              "      <td>mtl6camz1u</td>\n",
              "      <td>2024-03-09 00:54:24</td>\n",
              "      <td>Chất lượng sản phẩm:rất tệ\\nĐúng với mô tả:khô...</td>\n",
              "      <td>1</td>\n",
              "      <td>1</td>\n",
              "    </tr>\n",
              "    <tr>\n",
              "      <th>3</th>\n",
              "      <td>24252340802</td>\n",
              "      <td>[HÀNG SẴN - GIAO NHANH 2H]  Xúc xích cao cấp d...</td>\n",
              "      <td>14629947189</td>\n",
              "      <td>the_repus</td>\n",
              "      <td>2024-03-24 07:23:08</td>\n",
              "      <td>Đặt xúc xích mà ship cái qq này, đã v còn hết ...</td>\n",
              "      <td>1</td>\n",
              "      <td>1</td>\n",
              "    </tr>\n",
              "    <tr>\n",
              "      <th>4</th>\n",
              "      <td>24252340802</td>\n",
              "      <td>[HÀNG SẴN - GIAO NHANH 2H]  Xúc xích cao cấp d...</td>\n",
              "      <td>14879826473</td>\n",
              "      <td>ng.anh_1982</td>\n",
              "      <td>2024-04-15 07:36:43</td>\n",
              "      <td>Shop làm ăn bố láo, như quần què đặt 45 cây gi...</td>\n",
              "      <td>1</td>\n",
              "      <td>1</td>\n",
              "    </tr>\n",
              "  </tbody>\n",
              "</table>\n",
              "</div>\n",
              "    <div class=\"colab-df-buttons\">\n",
              "\n",
              "  <div class=\"colab-df-container\">\n",
              "    <button class=\"colab-df-convert\" onclick=\"convertToInteractive('df-6eaaeed2-d559-4a37-b639-736b4a40cbec')\"\n",
              "            title=\"Convert this dataframe to an interactive table.\"\n",
              "            style=\"display:none;\">\n",
              "\n",
              "  <svg xmlns=\"http://www.w3.org/2000/svg\" height=\"24px\" viewBox=\"0 -960 960 960\">\n",
              "    <path d=\"M120-120v-720h720v720H120Zm60-500h600v-160H180v160Zm220 220h160v-160H400v160Zm0 220h160v-160H400v160ZM180-400h160v-160H180v160Zm440 0h160v-160H620v160ZM180-180h160v-160H180v160Zm440 0h160v-160H620v160Z\"/>\n",
              "  </svg>\n",
              "    </button>\n",
              "\n",
              "  <style>\n",
              "    .colab-df-container {\n",
              "      display:flex;\n",
              "      gap: 12px;\n",
              "    }\n",
              "\n",
              "    .colab-df-convert {\n",
              "      background-color: #E8F0FE;\n",
              "      border: none;\n",
              "      border-radius: 50%;\n",
              "      cursor: pointer;\n",
              "      display: none;\n",
              "      fill: #1967D2;\n",
              "      height: 32px;\n",
              "      padding: 0 0 0 0;\n",
              "      width: 32px;\n",
              "    }\n",
              "\n",
              "    .colab-df-convert:hover {\n",
              "      background-color: #E2EBFA;\n",
              "      box-shadow: 0px 1px 2px rgba(60, 64, 67, 0.3), 0px 1px 3px 1px rgba(60, 64, 67, 0.15);\n",
              "      fill: #174EA6;\n",
              "    }\n",
              "\n",
              "    .colab-df-buttons div {\n",
              "      margin-bottom: 4px;\n",
              "    }\n",
              "\n",
              "    [theme=dark] .colab-df-convert {\n",
              "      background-color: #3B4455;\n",
              "      fill: #D2E3FC;\n",
              "    }\n",
              "\n",
              "    [theme=dark] .colab-df-convert:hover {\n",
              "      background-color: #434B5C;\n",
              "      box-shadow: 0px 1px 3px 1px rgba(0, 0, 0, 0.15);\n",
              "      filter: drop-shadow(0px 1px 2px rgba(0, 0, 0, 0.3));\n",
              "      fill: #FFFFFF;\n",
              "    }\n",
              "  </style>\n",
              "\n",
              "    <script>\n",
              "      const buttonEl =\n",
              "        document.querySelector('#df-6eaaeed2-d559-4a37-b639-736b4a40cbec button.colab-df-convert');\n",
              "      buttonEl.style.display =\n",
              "        google.colab.kernel.accessAllowed ? 'block' : 'none';\n",
              "\n",
              "      async function convertToInteractive(key) {\n",
              "        const element = document.querySelector('#df-6eaaeed2-d559-4a37-b639-736b4a40cbec');\n",
              "        const dataTable =\n",
              "          await google.colab.kernel.invokeFunction('convertToInteractive',\n",
              "                                                    [key], {});\n",
              "        if (!dataTable) return;\n",
              "\n",
              "        const docLinkHtml = 'Like what you see? Visit the ' +\n",
              "          '<a target=\"_blank\" href=https://colab.research.google.com/notebooks/data_table.ipynb>data table notebook</a>'\n",
              "          + ' to learn more about interactive tables.';\n",
              "        element.innerHTML = '';\n",
              "        dataTable['output_type'] = 'display_data';\n",
              "        await google.colab.output.renderOutput(dataTable, element);\n",
              "        const docLink = document.createElement('div');\n",
              "        docLink.innerHTML = docLinkHtml;\n",
              "        element.appendChild(docLink);\n",
              "      }\n",
              "    </script>\n",
              "  </div>\n",
              "\n",
              "\n",
              "<div id=\"df-9acb8c21-5694-4496-a1d0-3b93d28cdbe9\">\n",
              "  <button class=\"colab-df-quickchart\" onclick=\"quickchart('df-9acb8c21-5694-4496-a1d0-3b93d28cdbe9')\"\n",
              "            title=\"Suggest charts\"\n",
              "            style=\"display:none;\">\n",
              "\n",
              "<svg xmlns=\"http://www.w3.org/2000/svg\" height=\"24px\"viewBox=\"0 0 24 24\"\n",
              "     width=\"24px\">\n",
              "    <g>\n",
              "        <path d=\"M19 3H5c-1.1 0-2 .9-2 2v14c0 1.1.9 2 2 2h14c1.1 0 2-.9 2-2V5c0-1.1-.9-2-2-2zM9 17H7v-7h2v7zm4 0h-2V7h2v10zm4 0h-2v-4h2v4z\"/>\n",
              "    </g>\n",
              "</svg>\n",
              "  </button>\n",
              "\n",
              "<style>\n",
              "  .colab-df-quickchart {\n",
              "      --bg-color: #E8F0FE;\n",
              "      --fill-color: #1967D2;\n",
              "      --hover-bg-color: #E2EBFA;\n",
              "      --hover-fill-color: #174EA6;\n",
              "      --disabled-fill-color: #AAA;\n",
              "      --disabled-bg-color: #DDD;\n",
              "  }\n",
              "\n",
              "  [theme=dark] .colab-df-quickchart {\n",
              "      --bg-color: #3B4455;\n",
              "      --fill-color: #D2E3FC;\n",
              "      --hover-bg-color: #434B5C;\n",
              "      --hover-fill-color: #FFFFFF;\n",
              "      --disabled-bg-color: #3B4455;\n",
              "      --disabled-fill-color: #666;\n",
              "  }\n",
              "\n",
              "  .colab-df-quickchart {\n",
              "    background-color: var(--bg-color);\n",
              "    border: none;\n",
              "    border-radius: 50%;\n",
              "    cursor: pointer;\n",
              "    display: none;\n",
              "    fill: var(--fill-color);\n",
              "    height: 32px;\n",
              "    padding: 0;\n",
              "    width: 32px;\n",
              "  }\n",
              "\n",
              "  .colab-df-quickchart:hover {\n",
              "    background-color: var(--hover-bg-color);\n",
              "    box-shadow: 0 1px 2px rgba(60, 64, 67, 0.3), 0 1px 3px 1px rgba(60, 64, 67, 0.15);\n",
              "    fill: var(--button-hover-fill-color);\n",
              "  }\n",
              "\n",
              "  .colab-df-quickchart-complete:disabled,\n",
              "  .colab-df-quickchart-complete:disabled:hover {\n",
              "    background-color: var(--disabled-bg-color);\n",
              "    fill: var(--disabled-fill-color);\n",
              "    box-shadow: none;\n",
              "  }\n",
              "\n",
              "  .colab-df-spinner {\n",
              "    border: 2px solid var(--fill-color);\n",
              "    border-color: transparent;\n",
              "    border-bottom-color: var(--fill-color);\n",
              "    animation:\n",
              "      spin 1s steps(1) infinite;\n",
              "  }\n",
              "\n",
              "  @keyframes spin {\n",
              "    0% {\n",
              "      border-color: transparent;\n",
              "      border-bottom-color: var(--fill-color);\n",
              "      border-left-color: var(--fill-color);\n",
              "    }\n",
              "    20% {\n",
              "      border-color: transparent;\n",
              "      border-left-color: var(--fill-color);\n",
              "      border-top-color: var(--fill-color);\n",
              "    }\n",
              "    30% {\n",
              "      border-color: transparent;\n",
              "      border-left-color: var(--fill-color);\n",
              "      border-top-color: var(--fill-color);\n",
              "      border-right-color: var(--fill-color);\n",
              "    }\n",
              "    40% {\n",
              "      border-color: transparent;\n",
              "      border-right-color: var(--fill-color);\n",
              "      border-top-color: var(--fill-color);\n",
              "    }\n",
              "    60% {\n",
              "      border-color: transparent;\n",
              "      border-right-color: var(--fill-color);\n",
              "    }\n",
              "    80% {\n",
              "      border-color: transparent;\n",
              "      border-right-color: var(--fill-color);\n",
              "      border-bottom-color: var(--fill-color);\n",
              "    }\n",
              "    90% {\n",
              "      border-color: transparent;\n",
              "      border-bottom-color: var(--fill-color);\n",
              "    }\n",
              "  }\n",
              "</style>\n",
              "\n",
              "  <script>\n",
              "    async function quickchart(key) {\n",
              "      const quickchartButtonEl =\n",
              "        document.querySelector('#' + key + ' button');\n",
              "      quickchartButtonEl.disabled = true;  // To prevent multiple clicks.\n",
              "      quickchartButtonEl.classList.add('colab-df-spinner');\n",
              "      try {\n",
              "        const charts = await google.colab.kernel.invokeFunction(\n",
              "            'suggestCharts', [key], {});\n",
              "      } catch (error) {\n",
              "        console.error('Error during call to suggestCharts:', error);\n",
              "      }\n",
              "      quickchartButtonEl.classList.remove('colab-df-spinner');\n",
              "      quickchartButtonEl.classList.add('colab-df-quickchart-complete');\n",
              "    }\n",
              "    (() => {\n",
              "      let quickchartButtonEl =\n",
              "        document.querySelector('#df-9acb8c21-5694-4496-a1d0-3b93d28cdbe9 button');\n",
              "      quickchartButtonEl.style.display =\n",
              "        google.colab.kernel.accessAllowed ? 'block' : 'none';\n",
              "    })();\n",
              "  </script>\n",
              "</div>\n",
              "\n",
              "    </div>\n",
              "  </div>\n"
            ],
            "text/plain": [
              "       item_id                                       product_name  \\\n",
              "0  24252340802  [HÀNG SẴN - GIAO NHANH 2H]  Xúc xích cao cấp d...   \n",
              "1  24252340802  [HÀNG SẴN - GIAO NHANH 2H]  Xúc xích cao cấp d...   \n",
              "2  24252340802  [HÀNG SẴN - GIAO NHANH 2H]  Xúc xích cao cấp d...   \n",
              "3  24252340802  [HÀNG SẴN - GIAO NHANH 2H]  Xúc xích cao cấp d...   \n",
              "4  24252340802  [HÀNG SẴN - GIAO NHANH 2H]  Xúc xích cao cấp d...   \n",
              "\n",
              "        cmt_id  author_username                 time  \\\n",
              "0  14717091792   nguynthidng536  2024-03-30 16:38:01   \n",
              "1  14131482796  dinh_trong_hiep  2024-03-17 17:15:33   \n",
              "2  14278751782       mtl6camz1u  2024-03-09 00:54:24   \n",
              "3  14629947189        the_repus  2024-03-24 07:23:08   \n",
              "4  14879826473      ng.anh_1982  2024-04-15 07:36:43   \n",
              "\n",
              "                                             comment  rating  target  \n",
              "0  Chất lượng sản phẩm:đắng không nên mua\\n\\nShip...       1       1  \n",
              "1  Gửi thiếu hàng, đặt xx giao súp thưởng, mình m...       1       1  \n",
              "2  Chất lượng sản phẩm:rất tệ\\nĐúng với mô tả:khô...       1       1  \n",
              "3  Đặt xúc xích mà ship cái qq này, đã v còn hết ...       1       1  \n",
              "4  Shop làm ăn bố láo, như quần què đặt 45 cây gi...       1       1  "
            ]
          },
          "execution_count": 63,
          "metadata": {},
          "output_type": "execute_result"
        }
      ],
      "source": [
        "df.head()"
      ]
    },
    {
      "cell_type": "markdown",
      "metadata": {
        "id": "dEoyvxgc8Lnr"
      },
      "source": [
        "**Xóa bỏ các kí tự thừa**"
      ]
    },
    {
      "cell_type": "code",
      "execution_count": null,
      "metadata": {
        "id": "Lox1nCPW8TpJ"
      },
      "outputs": [],
      "source": [
        "def stem_text(raw_text):\n",
        "  raw_text = str(raw_text).lower()\n",
        "  # Unicode character ranges for Vietnamese characters (adjust if needed)\n",
        "  vietnamese_char_ranges = r\"\\w\\u00C0-\\u17FF\"\n",
        "  # Regular expression to match emojis and icons, excluding Vietnamese characters\n",
        "  emoji_pattern = r\"[^\" + vietnamese_char_ranges + r\"\\s]+\"\n",
        "  split_char_arr = re.sub(emoji_pattern, '', raw_text).strip().split(\" \")\n",
        "  clean_str = [w for w in split_char_arr if len(w) <= 7]\n",
        "  return ' '.join(clean_str)\n"
      ]
    },
    {
      "cell_type": "code",
      "execution_count": null,
      "metadata": {
        "id": "QsSjVTjm-Zoe"
      },
      "outputs": [],
      "source": [
        "df['content_stem'] = df['comment'].map(stem_text)\n",
        "# example = df.loc[41][\"comment\"]\n",
        "# print(example)\n",
        "# tagged = pos_tag(example);\n",
        "# print(tagged)"
      ]
    },
    {
      "cell_type": "code",
      "execution_count": null,
      "metadata": {
        "colab": {
          "base_uri": "https://localhost:8080/",
          "height": 72
        },
        "id": "eVe-xwff_BKv",
        "outputId": "9e1718ee-5763-4308-9cc0-b8a399e4769c"
      },
      "outputs": [
        {
          "data": {
            "application/vnd.google.colaboratory.intrinsic+json": {
              "type": "string"
            },
            "text/plain": [
              "'Chó kh thèm ăn. TTTTTTTTT     EEEEEEEE\\n                                       T               E\\n                                       T               EEEEEEEE\\n                                       T               E\\n                                       T                EEEEEEEE'"
            ]
          },
          "execution_count": 66,
          "metadata": {},
          "output_type": "execute_result"
        }
      ],
      "source": [
        "df.loc[146]['comment']"
      ]
    },
    {
      "cell_type": "code",
      "execution_count": null,
      "metadata": {
        "colab": {
          "base_uri": "https://localhost:8080/",
          "height": 54
        },
        "id": "kVWPZAhI_Ogh",
        "outputId": "3a113854-3497-491d-d440-e609627d3218"
      },
      "outputs": [
        {
          "data": {
            "application/vnd.google.colaboratory.intrinsic+json": {
              "type": "string"
            },
            "text/plain": [
              "'chó kh thèm ăn                                           t               e\\n                                       t                                                     t               e\\n                                       t               '"
            ]
          },
          "execution_count": 67,
          "metadata": {},
          "output_type": "execute_result"
        }
      ],
      "source": [
        "df.loc[146]['content_stem']"
      ]
    },
    {
      "cell_type": "code",
      "execution_count": null,
      "metadata": {
        "colab": {
          "base_uri": "https://localhost:8080/"
        },
        "id": "d6FiwGF6Vh9W",
        "outputId": "e5208219-dd39-4147-d13c-2386c0f3b1d1"
      },
      "outputs": [
        {
          "name": "stdout",
          "output_type": "stream",
          "text": [
            "<class 'pandas.core.frame.DataFrame'>\n",
            "Index: 236615 entries, 0 to 236655\n",
            "Data columns (total 9 columns):\n",
            " #   Column           Non-Null Count   Dtype \n",
            "---  ------           --------------   ----- \n",
            " 0   item_id          236615 non-null  int64 \n",
            " 1   product_name     236615 non-null  object\n",
            " 2   cmt_id           236615 non-null  int64 \n",
            " 3   author_username  236615 non-null  object\n",
            " 4   time             236615 non-null  object\n",
            " 5   comment          236615 non-null  object\n",
            " 6   rating           236615 non-null  int64 \n",
            " 7   target           236615 non-null  int64 \n",
            " 8   content_stem     236615 non-null  object\n",
            "dtypes: int64(4), object(5)\n",
            "memory usage: 26.1+ MB\n"
          ]
        }
      ],
      "source": [
        "df.info()"
      ]
    },
    {
      "cell_type": "markdown",
      "metadata": {
        "id": "H7toyXxk7gT0"
      },
      "source": [
        "## Xóa các comment không liên quan\n",
        "Có nhiều cmt quảng cáo, nội dung rác không liên quan sản phẩm"
      ]
    },
    {
      "cell_type": "markdown",
      "metadata": {
        "id": "GdpHiFjgOe2k"
      },
      "source": [
        "- Thêm 1 cột length comment, tìm median ( trung vị ) của độ dài comment, nếu cmt > trung vị => loại\n",
        "1. KNN để phân category.\n",
        "2. Gán nhãn sentiment\n",
        "2a.   Lọc cmt tích cực và tiêu cực ( chỉ dùng comment )\n",
        "2b.   Lọc cmt tích cực và tiêu cực ( chỉ dùng rating )\n",
        "3.    Tokenize và tạo word cloud cho mỗi nhóm, tìm keyword chung\n",
        "- TOKENIZE, POS tagging, tim N, A, count, sort\n",
        "+ Dùng pos tách các token, chọn N, A.\n",
        "+ Vẽ word cloud cho từng category\n",
        "=> 4 word cloud, 2 pos, 2 neg\n"
      ]
    },
    {
      "cell_type": "code",
      "execution_count": null,
      "metadata": {
        "id": "_zgJOAUFr-Ke"
      },
      "outputs": [],
      "source": [
        "# prompt: create one more column call 'comment_len', contains length of comment value\n",
        "\n",
        "df['comment_len'] = df['content_stem'].str.len()\n"
      ]
    },
    {
      "cell_type": "code",
      "execution_count": null,
      "metadata": {
        "colab": {
          "base_uri": "https://localhost:8080/",
          "height": 883
        },
        "id": "k2lVxnKesKcz",
        "outputId": "482d5853-4a27-4080-ac9d-3e4eb802dae1"
      },
      "outputs": [
        {
          "data": {
            "application/vnd.google.colaboratory.intrinsic+json": {
              "type": "dataframe",
              "variable_name": "df"
            },
            "text/html": [
              "\n",
              "  <div id=\"df-6a7214ae-51bb-465f-9c8a-2e91306c2c36\" class=\"colab-df-container\">\n",
              "    <div>\n",
              "<style scoped>\n",
              "    .dataframe tbody tr th:only-of-type {\n",
              "        vertical-align: middle;\n",
              "    }\n",
              "\n",
              "    .dataframe tbody tr th {\n",
              "        vertical-align: top;\n",
              "    }\n",
              "\n",
              "    .dataframe thead th {\n",
              "        text-align: right;\n",
              "    }\n",
              "</style>\n",
              "<table border=\"1\" class=\"dataframe\">\n",
              "  <thead>\n",
              "    <tr style=\"text-align: right;\">\n",
              "      <th></th>\n",
              "      <th>item_id</th>\n",
              "      <th>product_name</th>\n",
              "      <th>cmt_id</th>\n",
              "      <th>author_username</th>\n",
              "      <th>time</th>\n",
              "      <th>comment</th>\n",
              "      <th>rating</th>\n",
              "      <th>target</th>\n",
              "      <th>content_stem</th>\n",
              "      <th>comment_len</th>\n",
              "    </tr>\n",
              "  </thead>\n",
              "  <tbody>\n",
              "    <tr>\n",
              "      <th>0</th>\n",
              "      <td>24252340802</td>\n",
              "      <td>[HÀNG SẴN - GIAO NHANH 2H]  Xúc xích cao cấp d...</td>\n",
              "      <td>14717091792</td>\n",
              "      <td>nguynthidng536</td>\n",
              "      <td>2024-03-30 16:38:01</td>\n",
              "      <td>Chất lượng sản phẩm:đắng không nên mua\\n\\nShip...</td>\n",
              "      <td>1</td>\n",
              "      <td>1</td>\n",
              "      <td>chất lượng sản không nên thân thiện nhưng xúc ...</td>\n",
              "      <td>65</td>\n",
              "    </tr>\n",
              "    <tr>\n",
              "      <th>1</th>\n",
              "      <td>24252340802</td>\n",
              "      <td>[HÀNG SẴN - GIAO NHANH 2H]  Xúc xích cao cấp d...</td>\n",
              "      <td>14131482796</td>\n",
              "      <td>dinh_trong_hiep</td>\n",
              "      <td>2024-03-17 17:15:33</td>\n",
              "      <td>Gửi thiếu hàng, đặt xx giao súp thưởng, mình m...</td>\n",
              "      <td>1</td>\n",
              "      <td>1</td>\n",
              "      <td>gửi thiếu hàng đặt xx giao súp thưởng mình mua...</td>\n",
              "      <td>192</td>\n",
              "    </tr>\n",
              "    <tr>\n",
              "      <th>2</th>\n",
              "      <td>24252340802</td>\n",
              "      <td>[HÀNG SẴN - GIAO NHANH 2H]  Xúc xích cao cấp d...</td>\n",
              "      <td>14278751782</td>\n",
              "      <td>mtl6camz1u</td>\n",
              "      <td>2024-03-09 00:54:24</td>\n",
              "      <td>Chất lượng sản phẩm:rất tệ\\nĐúng với mô tả:khô...</td>\n",
              "      <td>1</td>\n",
              "      <td>1</td>\n",
              "      <td>chất lượng sản phẩmrất tệ\\nđúng với mô có mùi ...</td>\n",
              "      <td>132</td>\n",
              "    </tr>\n",
              "    <tr>\n",
              "      <th>3</th>\n",
              "      <td>24252340802</td>\n",
              "      <td>[HÀNG SẴN - GIAO NHANH 2H]  Xúc xích cao cấp d...</td>\n",
              "      <td>14629947189</td>\n",
              "      <td>the_repus</td>\n",
              "      <td>2024-03-24 07:23:08</td>\n",
              "      <td>Đặt xúc xích mà ship cái qq này, đã v còn hết ...</td>\n",
              "      <td>1</td>\n",
              "      <td>1</td>\n",
              "      <td>đặt xúc xích mà ship cái qq này đã v còn hết h...</td>\n",
              "      <td>60</td>\n",
              "    </tr>\n",
              "    <tr>\n",
              "      <th>4</th>\n",
              "      <td>24252340802</td>\n",
              "      <td>[HÀNG SẴN - GIAO NHANH 2H]  Xúc xích cao cấp d...</td>\n",
              "      <td>14879826473</td>\n",
              "      <td>ng.anh_1982</td>\n",
              "      <td>2024-04-15 07:36:43</td>\n",
              "      <td>Shop làm ăn bố láo, như quần què đặt 45 cây gi...</td>\n",
              "      <td>1</td>\n",
              "      <td>1</td>\n",
              "      <td>shop làm ăn bố láo như quần què đặt 45 cây gia...</td>\n",
              "      <td>77</td>\n",
              "    </tr>\n",
              "    <tr>\n",
              "      <th>5</th>\n",
              "      <td>24252340802</td>\n",
              "      <td>[HÀNG SẴN - GIAO NHANH 2H]  Xúc xích cao cấp d...</td>\n",
              "      <td>14861977659</td>\n",
              "      <td>5mkgdxan4k</td>\n",
              "      <td>2024-04-12 16:58:58</td>\n",
              "      <td>Chất lượng sản phẩm:giáo nhầm cho hộ dân khác ...</td>\n",
              "      <td>1</td>\n",
              "      <td>1</td>\n",
              "      <td>chất lượng sản nhầm cho hộ dân khác không đúng...</td>\n",
              "      <td>83</td>\n",
              "    </tr>\n",
              "    <tr>\n",
              "      <th>6</th>\n",
              "      <td>24252340802</td>\n",
              "      <td>[HÀNG SẴN - GIAO NHANH 2H]  Xúc xích cao cấp d...</td>\n",
              "      <td>14846611226</td>\n",
              "      <td>f*****e</td>\n",
              "      <td>2024-04-10 11:52:43</td>\n",
              "      <td>Dùng ổn nhưng rất ko hài lòng với cách làm việ...</td>\n",
              "      <td>1</td>\n",
              "      <td>1</td>\n",
              "      <td>dùng ổn nhưng rất ko hài lòng với cách làm việ...</td>\n",
              "      <td>108</td>\n",
              "    </tr>\n",
              "    <tr>\n",
              "      <th>7</th>\n",
              "      <td>24252340802</td>\n",
              "      <td>[HÀNG SẴN - GIAO NHANH 2H]  Xúc xích cao cấp d...</td>\n",
              "      <td>14725080739</td>\n",
              "      <td>hai021103</td>\n",
              "      <td>2024-03-31 18:55:42</td>\n",
              "      <td>Đúng với mô tả:dở\\n\\nMua hai loại đưa 1 loại ....</td>\n",
              "      <td>2</td>\n",
              "      <td>1</td>\n",
              "      <td>đúng với mô hai loại đưa 1 loại  ăn ko ngon nh...</td>\n",
              "      <td>54</td>\n",
              "    </tr>\n",
              "    <tr>\n",
              "      <th>8</th>\n",
              "      <td>24252340802</td>\n",
              "      <td>[HÀNG SẴN - GIAO NHANH 2H]  Xúc xích cao cấp d...</td>\n",
              "      <td>14323892336</td>\n",
              "      <td>diepvu45sd</td>\n",
              "      <td>2024-02-27 08:19:52</td>\n",
              "      <td>Thời gian shop chuẩn bị hàng rất lâu. Mỗi lần ...</td>\n",
              "      <td>3</td>\n",
              "      <td>1</td>\n",
              "      <td>thời gian shop chuẩn bị hàng rất lâu mỗi lần n...</td>\n",
              "      <td>439</td>\n",
              "    </tr>\n",
              "    <tr>\n",
              "      <th>9</th>\n",
              "      <td>24252340802</td>\n",
              "      <td>[HÀNG SẴN - GIAO NHANH 2H]  Xúc xích cao cấp d...</td>\n",
              "      <td>14803214200</td>\n",
              "      <td>thucchinhtrn</td>\n",
              "      <td>2024-04-06 01:17:36</td>\n",
              "      <td>Chất lượng sản phẩm:lúc tôi mở ra bên trong nó...</td>\n",
              "      <td>3</td>\n",
              "      <td>1</td>\n",
              "      <td>chất lượng sản phẩmlúc tôi mở ra bên trong nó ...</td>\n",
              "      <td>76</td>\n",
              "    </tr>\n",
              "  </tbody>\n",
              "</table>\n",
              "</div>\n",
              "    <div class=\"colab-df-buttons\">\n",
              "\n",
              "  <div class=\"colab-df-container\">\n",
              "    <button class=\"colab-df-convert\" onclick=\"convertToInteractive('df-6a7214ae-51bb-465f-9c8a-2e91306c2c36')\"\n",
              "            title=\"Convert this dataframe to an interactive table.\"\n",
              "            style=\"display:none;\">\n",
              "\n",
              "  <svg xmlns=\"http://www.w3.org/2000/svg\" height=\"24px\" viewBox=\"0 -960 960 960\">\n",
              "    <path d=\"M120-120v-720h720v720H120Zm60-500h600v-160H180v160Zm220 220h160v-160H400v160Zm0 220h160v-160H400v160ZM180-400h160v-160H180v160Zm440 0h160v-160H620v160ZM180-180h160v-160H180v160Zm440 0h160v-160H620v160Z\"/>\n",
              "  </svg>\n",
              "    </button>\n",
              "\n",
              "  <style>\n",
              "    .colab-df-container {\n",
              "      display:flex;\n",
              "      gap: 12px;\n",
              "    }\n",
              "\n",
              "    .colab-df-convert {\n",
              "      background-color: #E8F0FE;\n",
              "      border: none;\n",
              "      border-radius: 50%;\n",
              "      cursor: pointer;\n",
              "      display: none;\n",
              "      fill: #1967D2;\n",
              "      height: 32px;\n",
              "      padding: 0 0 0 0;\n",
              "      width: 32px;\n",
              "    }\n",
              "\n",
              "    .colab-df-convert:hover {\n",
              "      background-color: #E2EBFA;\n",
              "      box-shadow: 0px 1px 2px rgba(60, 64, 67, 0.3), 0px 1px 3px 1px rgba(60, 64, 67, 0.15);\n",
              "      fill: #174EA6;\n",
              "    }\n",
              "\n",
              "    .colab-df-buttons div {\n",
              "      margin-bottom: 4px;\n",
              "    }\n",
              "\n",
              "    [theme=dark] .colab-df-convert {\n",
              "      background-color: #3B4455;\n",
              "      fill: #D2E3FC;\n",
              "    }\n",
              "\n",
              "    [theme=dark] .colab-df-convert:hover {\n",
              "      background-color: #434B5C;\n",
              "      box-shadow: 0px 1px 3px 1px rgba(0, 0, 0, 0.15);\n",
              "      filter: drop-shadow(0px 1px 2px rgba(0, 0, 0, 0.3));\n",
              "      fill: #FFFFFF;\n",
              "    }\n",
              "  </style>\n",
              "\n",
              "    <script>\n",
              "      const buttonEl =\n",
              "        document.querySelector('#df-6a7214ae-51bb-465f-9c8a-2e91306c2c36 button.colab-df-convert');\n",
              "      buttonEl.style.display =\n",
              "        google.colab.kernel.accessAllowed ? 'block' : 'none';\n",
              "\n",
              "      async function convertToInteractive(key) {\n",
              "        const element = document.querySelector('#df-6a7214ae-51bb-465f-9c8a-2e91306c2c36');\n",
              "        const dataTable =\n",
              "          await google.colab.kernel.invokeFunction('convertToInteractive',\n",
              "                                                    [key], {});\n",
              "        if (!dataTable) return;\n",
              "\n",
              "        const docLinkHtml = 'Like what you see? Visit the ' +\n",
              "          '<a target=\"_blank\" href=https://colab.research.google.com/notebooks/data_table.ipynb>data table notebook</a>'\n",
              "          + ' to learn more about interactive tables.';\n",
              "        element.innerHTML = '';\n",
              "        dataTable['output_type'] = 'display_data';\n",
              "        await google.colab.output.renderOutput(dataTable, element);\n",
              "        const docLink = document.createElement('div');\n",
              "        docLink.innerHTML = docLinkHtml;\n",
              "        element.appendChild(docLink);\n",
              "      }\n",
              "    </script>\n",
              "  </div>\n",
              "\n",
              "\n",
              "<div id=\"df-f6818cb4-60f7-4c0e-8e13-902ac35f56c0\">\n",
              "  <button class=\"colab-df-quickchart\" onclick=\"quickchart('df-f6818cb4-60f7-4c0e-8e13-902ac35f56c0')\"\n",
              "            title=\"Suggest charts\"\n",
              "            style=\"display:none;\">\n",
              "\n",
              "<svg xmlns=\"http://www.w3.org/2000/svg\" height=\"24px\"viewBox=\"0 0 24 24\"\n",
              "     width=\"24px\">\n",
              "    <g>\n",
              "        <path d=\"M19 3H5c-1.1 0-2 .9-2 2v14c0 1.1.9 2 2 2h14c1.1 0 2-.9 2-2V5c0-1.1-.9-2-2-2zM9 17H7v-7h2v7zm4 0h-2V7h2v10zm4 0h-2v-4h2v4z\"/>\n",
              "    </g>\n",
              "</svg>\n",
              "  </button>\n",
              "\n",
              "<style>\n",
              "  .colab-df-quickchart {\n",
              "      --bg-color: #E8F0FE;\n",
              "      --fill-color: #1967D2;\n",
              "      --hover-bg-color: #E2EBFA;\n",
              "      --hover-fill-color: #174EA6;\n",
              "      --disabled-fill-color: #AAA;\n",
              "      --disabled-bg-color: #DDD;\n",
              "  }\n",
              "\n",
              "  [theme=dark] .colab-df-quickchart {\n",
              "      --bg-color: #3B4455;\n",
              "      --fill-color: #D2E3FC;\n",
              "      --hover-bg-color: #434B5C;\n",
              "      --hover-fill-color: #FFFFFF;\n",
              "      --disabled-bg-color: #3B4455;\n",
              "      --disabled-fill-color: #666;\n",
              "  }\n",
              "\n",
              "  .colab-df-quickchart {\n",
              "    background-color: var(--bg-color);\n",
              "    border: none;\n",
              "    border-radius: 50%;\n",
              "    cursor: pointer;\n",
              "    display: none;\n",
              "    fill: var(--fill-color);\n",
              "    height: 32px;\n",
              "    padding: 0;\n",
              "    width: 32px;\n",
              "  }\n",
              "\n",
              "  .colab-df-quickchart:hover {\n",
              "    background-color: var(--hover-bg-color);\n",
              "    box-shadow: 0 1px 2px rgba(60, 64, 67, 0.3), 0 1px 3px 1px rgba(60, 64, 67, 0.15);\n",
              "    fill: var(--button-hover-fill-color);\n",
              "  }\n",
              "\n",
              "  .colab-df-quickchart-complete:disabled,\n",
              "  .colab-df-quickchart-complete:disabled:hover {\n",
              "    background-color: var(--disabled-bg-color);\n",
              "    fill: var(--disabled-fill-color);\n",
              "    box-shadow: none;\n",
              "  }\n",
              "\n",
              "  .colab-df-spinner {\n",
              "    border: 2px solid var(--fill-color);\n",
              "    border-color: transparent;\n",
              "    border-bottom-color: var(--fill-color);\n",
              "    animation:\n",
              "      spin 1s steps(1) infinite;\n",
              "  }\n",
              "\n",
              "  @keyframes spin {\n",
              "    0% {\n",
              "      border-color: transparent;\n",
              "      border-bottom-color: var(--fill-color);\n",
              "      border-left-color: var(--fill-color);\n",
              "    }\n",
              "    20% {\n",
              "      border-color: transparent;\n",
              "      border-left-color: var(--fill-color);\n",
              "      border-top-color: var(--fill-color);\n",
              "    }\n",
              "    30% {\n",
              "      border-color: transparent;\n",
              "      border-left-color: var(--fill-color);\n",
              "      border-top-color: var(--fill-color);\n",
              "      border-right-color: var(--fill-color);\n",
              "    }\n",
              "    40% {\n",
              "      border-color: transparent;\n",
              "      border-right-color: var(--fill-color);\n",
              "      border-top-color: var(--fill-color);\n",
              "    }\n",
              "    60% {\n",
              "      border-color: transparent;\n",
              "      border-right-color: var(--fill-color);\n",
              "    }\n",
              "    80% {\n",
              "      border-color: transparent;\n",
              "      border-right-color: var(--fill-color);\n",
              "      border-bottom-color: var(--fill-color);\n",
              "    }\n",
              "    90% {\n",
              "      border-color: transparent;\n",
              "      border-bottom-color: var(--fill-color);\n",
              "    }\n",
              "  }\n",
              "</style>\n",
              "\n",
              "  <script>\n",
              "    async function quickchart(key) {\n",
              "      const quickchartButtonEl =\n",
              "        document.querySelector('#' + key + ' button');\n",
              "      quickchartButtonEl.disabled = true;  // To prevent multiple clicks.\n",
              "      quickchartButtonEl.classList.add('colab-df-spinner');\n",
              "      try {\n",
              "        const charts = await google.colab.kernel.invokeFunction(\n",
              "            'suggestCharts', [key], {});\n",
              "      } catch (error) {\n",
              "        console.error('Error during call to suggestCharts:', error);\n",
              "      }\n",
              "      quickchartButtonEl.classList.remove('colab-df-spinner');\n",
              "      quickchartButtonEl.classList.add('colab-df-quickchart-complete');\n",
              "    }\n",
              "    (() => {\n",
              "      let quickchartButtonEl =\n",
              "        document.querySelector('#df-f6818cb4-60f7-4c0e-8e13-902ac35f56c0 button');\n",
              "      quickchartButtonEl.style.display =\n",
              "        google.colab.kernel.accessAllowed ? 'block' : 'none';\n",
              "    })();\n",
              "  </script>\n",
              "</div>\n",
              "\n",
              "    </div>\n",
              "  </div>\n"
            ],
            "text/plain": [
              "       item_id                                       product_name  \\\n",
              "0  24252340802  [HÀNG SẴN - GIAO NHANH 2H]  Xúc xích cao cấp d...   \n",
              "1  24252340802  [HÀNG SẴN - GIAO NHANH 2H]  Xúc xích cao cấp d...   \n",
              "2  24252340802  [HÀNG SẴN - GIAO NHANH 2H]  Xúc xích cao cấp d...   \n",
              "3  24252340802  [HÀNG SẴN - GIAO NHANH 2H]  Xúc xích cao cấp d...   \n",
              "4  24252340802  [HÀNG SẴN - GIAO NHANH 2H]  Xúc xích cao cấp d...   \n",
              "5  24252340802  [HÀNG SẴN - GIAO NHANH 2H]  Xúc xích cao cấp d...   \n",
              "6  24252340802  [HÀNG SẴN - GIAO NHANH 2H]  Xúc xích cao cấp d...   \n",
              "7  24252340802  [HÀNG SẴN - GIAO NHANH 2H]  Xúc xích cao cấp d...   \n",
              "8  24252340802  [HÀNG SẴN - GIAO NHANH 2H]  Xúc xích cao cấp d...   \n",
              "9  24252340802  [HÀNG SẴN - GIAO NHANH 2H]  Xúc xích cao cấp d...   \n",
              "\n",
              "        cmt_id  author_username                 time  \\\n",
              "0  14717091792   nguynthidng536  2024-03-30 16:38:01   \n",
              "1  14131482796  dinh_trong_hiep  2024-03-17 17:15:33   \n",
              "2  14278751782       mtl6camz1u  2024-03-09 00:54:24   \n",
              "3  14629947189        the_repus  2024-03-24 07:23:08   \n",
              "4  14879826473      ng.anh_1982  2024-04-15 07:36:43   \n",
              "5  14861977659       5mkgdxan4k  2024-04-12 16:58:58   \n",
              "6  14846611226          f*****e  2024-04-10 11:52:43   \n",
              "7  14725080739        hai021103  2024-03-31 18:55:42   \n",
              "8  14323892336       diepvu45sd  2024-02-27 08:19:52   \n",
              "9  14803214200     thucchinhtrn  2024-04-06 01:17:36   \n",
              "\n",
              "                                             comment  rating  target  \\\n",
              "0  Chất lượng sản phẩm:đắng không nên mua\\n\\nShip...       1       1   \n",
              "1  Gửi thiếu hàng, đặt xx giao súp thưởng, mình m...       1       1   \n",
              "2  Chất lượng sản phẩm:rất tệ\\nĐúng với mô tả:khô...       1       1   \n",
              "3  Đặt xúc xích mà ship cái qq này, đã v còn hết ...       1       1   \n",
              "4  Shop làm ăn bố láo, như quần què đặt 45 cây gi...       1       1   \n",
              "5  Chất lượng sản phẩm:giáo nhầm cho hộ dân khác ...       1       1   \n",
              "6  Dùng ổn nhưng rất ko hài lòng với cách làm việ...       1       1   \n",
              "7  Đúng với mô tả:dở\\n\\nMua hai loại đưa 1 loại ....       2       1   \n",
              "8  Thời gian shop chuẩn bị hàng rất lâu. Mỗi lần ...       3       1   \n",
              "9  Chất lượng sản phẩm:lúc tôi mở ra bên trong nó...       3       1   \n",
              "\n",
              "                                        content_stem  comment_len  \n",
              "0  chất lượng sản không nên thân thiện nhưng xúc ...           65  \n",
              "1  gửi thiếu hàng đặt xx giao súp thưởng mình mua...          192  \n",
              "2  chất lượng sản phẩmrất tệ\\nđúng với mô có mùi ...          132  \n",
              "3  đặt xúc xích mà ship cái qq này đã v còn hết h...           60  \n",
              "4  shop làm ăn bố láo như quần què đặt 45 cây gia...           77  \n",
              "5  chất lượng sản nhầm cho hộ dân khác không đúng...           83  \n",
              "6  dùng ổn nhưng rất ko hài lòng với cách làm việ...          108  \n",
              "7  đúng với mô hai loại đưa 1 loại  ăn ko ngon nh...           54  \n",
              "8  thời gian shop chuẩn bị hàng rất lâu mỗi lần n...          439  \n",
              "9  chất lượng sản phẩmlúc tôi mở ra bên trong nó ...           76  "
            ]
          },
          "execution_count": 79,
          "metadata": {},
          "output_type": "execute_result"
        }
      ],
      "source": [
        "df.head(10)"
      ]
    },
    {
      "cell_type": "code",
      "execution_count": null,
      "metadata": {
        "colab": {
          "base_uri": "https://localhost:8080/"
        },
        "id": "IRBg3YI_sULr",
        "outputId": "ac46029c-27f3-418f-b586-560b97f922fd"
      },
      "outputs": [
        {
          "name": "stdout",
          "output_type": "stream",
          "text": [
            "86.93739703459637\n",
            "item_id            3344\n",
            "product_name       3344\n",
            "cmt_id             3344\n",
            "author_username    3344\n",
            "time               3344\n",
            "comment            3344\n",
            "rating             3344\n",
            "target             3344\n",
            "content_stem       3344\n",
            "comment_len        3344\n",
            "dtype: int64\n"
          ]
        }
      ],
      "source": [
        "nev_df = df[df['rating'] < 4]\n",
        "nev_cmt_average=nev_df['comment_len'].sum() / nev_df.shape[0]\n",
        "print(nev_cmt_average)\n",
        "print(df[(df['comment_len'] > nev_cmt_average) & (df['rating'] < 4) ].count())"
      ]
    },
    {
      "cell_type": "code",
      "execution_count": null,
      "metadata": {
        "colab": {
          "base_uri": "https://localhost:8080/"
        },
        "id": "A1QIY0Ckss6X",
        "outputId": "937c5590-2255-40d7-a3cd-c3238a4367eb"
      },
      "outputs": [
        {
          "name": "stdout",
          "output_type": "stream",
          "text": [
            "(398, 10)\n",
            "          item_id                                       product_name  \\\n",
            "48    24252340802  [HÀNG SẴN - GIAO NHANH 2H]  Xúc xích cao cấp d...   \n",
            "722   20352595492  Xúc xích cho chó mèo (15gr) , thức ăn cho thú ...   \n",
            "2286  20352595492  Xúc xích cho chó mèo (15gr) , thức ăn cho thú ...   \n",
            "4283   4252915143               Xúc xích dinh dưỡng dành cho chó mèo   \n",
            "6090  17993996954  Xúc xích cho Chó Mèo - cung cấp dinh dưỡng cho...   \n",
            "\n",
            "           cmt_id author_username                 time  \\\n",
            "48    14182806227        thucannh  2024-02-22 06:10:33   \n",
            "722   11766187778          likala  2023-07-19 14:21:17   \n",
            "2286  13066623483    honhanai2109  2023-11-02 00:34:09   \n",
            "4283  11303518225         d*****3  2023-04-18 05:35:29   \n",
            "6090  13997156176    ngcattien.06  2024-01-25 23:56:46   \n",
            "\n",
            "                                                comment  rating  target  \\\n",
            "48    [QC] Tai khoan cua Quy khach sap het, soan UT ...       5       0   \n",
            "722   [QC] - ❌ CÒN 3 NGÀY ❌\\n- Khóa 7 NGÀY CẤP TỐC -...       5       0   \n",
            "2286  [QC] Dung lo rong vi - Vi da co Vay ngan ngay ...       5       0   \n",
            "4283  (QC) HOT!!! Dich vu INTERNET CAP QUANG toc do ...       5       0   \n",
            "6090  [QC] THỨ NĂM BỘN BỀ, ĐỪNG QUÊN ẴM 80 TỶ VỀ! Đã...       5       0   \n",
            "\n",
            "                                           content_stem  comment_len  \n",
            "48    qc tai khoan cua quy khach sap het soan ut gui...          313  \n",
            "722   qc   còn 3 ngày \\n khóa 7 ngày cấp tốc  về đíc...          228  \n",
            "2286  qc dung lo rong vi  vi da co vay ngan ngay tre...          155  \n",
            "4283  qc hot dich vu cap quang toc do cao uu dai cuc...          290  \n",
            "6090  qc thứ năm bộn bề đừng quên ẵm 80 tỷ về đã có ...          235  \n",
            "(51, 10)\n",
            "           item_id                                       product_name  \\\n",
            "631    20352595492  Xúc xích cho chó mèo (15gr) , thức ăn cho thú ...   \n",
            "2543   20352595492  Xúc xích cho chó mèo (15gr) , thức ăn cho thú ...   \n",
            "3811    4252915143               Xúc xích dinh dưỡng dành cho chó mèo   \n",
            "6108   17993996954  Xúc xích cho Chó Mèo - cung cấp dinh dưỡng cho...   \n",
            "16812  18666228556  [FLASH SALE] Snack Mèo Yêu Cá Hằng Đại, Snack ...   \n",
            "\n",
            "            cmt_id    author_username                 time  \\\n",
            "631    13487233418         vythao1505  2023-12-09 17:16:42   \n",
            "2543   11423266656  trunghuongsneaker  2023-07-22 08:22:45   \n",
            "3811    9204900063            k*****.  2022-08-08 16:27:13   \n",
            "6108   12515685613          yenty6868  2023-09-08 09:30:50   \n",
            "16812  12817774805         _phg_uyen_  2023-10-12 15:02:33   \n",
            "\n",
            "                                                 comment  rating  target  \\\n",
            "631    MỪNG SINH NHẬT 7 TUỔI BÒ SỐT HẺM CHƠI LỚN🎉\\n🔥 ...       5       0   \n",
            "2543   Oce làm CTV bên mình chốt qua Zalo 0399626569 ...       5       0   \n",
            "3811   Chất lượng sản phẩm:xúc xích\\nĐúng với mô tả:d...       5       0   \n",
            "6108   Đúng với mô tả:sp như mô tả\\nChất lượng sản ph...       5       0   \n",
            "16812  Xem Livestream, GIẢM NGAY 50% trên Shopee Live...       5       0   \n",
            "\n",
            "                                            content_stem  comment_len  \n",
            "631    mừng sinh nhật 7 tuổi bò sốt hẻm chơi lớn\\n mu...          680  \n",
            "2543   oce làm ctv bên mình chốt qua zalo \\nhàng bán ...          358  \n",
            "3811   chất lượng sản phẩmxúc với mô tảdành cho chó g...          124  \n",
            "6108   đúng với mô tảsp như mô tả\\nchất lượng sản chố...          171  \n",
            "16812  xem giảm ngay 50 trên shopee live vô số vouche...          131  \n",
            "(1857, 10)\n",
            "         item_id                                       product_name  \\\n",
            "369  20352595492  Xúc xích cho chó mèo (15gr) , thức ăn cho thú ...   \n",
            "569  20352595492  Xúc xích cho chó mèo (15gr) , thức ăn cho thú ...   \n",
            "571  20352595492  Xúc xích cho chó mèo (15gr) , thức ăn cho thú ...   \n",
            "639  20352595492  Xúc xích cho chó mèo (15gr) , thức ăn cho thú ...   \n",
            "641  20352595492  Xúc xích cho chó mèo (15gr) , thức ăn cho thú ...   \n",
            "\n",
            "          cmt_id author_username                 time  \\\n",
            "369  14621962881         n*****6  2024-03-23 08:24:55   \n",
            "569  10900055859         lanlu75  2023-07-19 14:23:58   \n",
            "571  13940584297     hoingthu845  2024-01-20 07:36:50   \n",
            "639  14281741038   phuonghien.nn  2024-02-23 06:10:38   \n",
            "641  12598334767   aiphngthao203  2023-09-19 00:34:53   \n",
            "\n",
            "                                               comment  rating  target  \\\n",
            "369  Chất lượng sản phẩm:ok\\nĐúng với mô tả:ok\\n\\n\"...       4       0   \n",
            "569  (TB) QUÀ TẶNG THÁNG 3! VinaPhone kính tặng Quý...       5       0   \n",
            "571  ✨ LÒ VI SÓNG ĐÓNG CẶN SAO CÓ MÓN TẾT NGON?\\n\\n...       5       0   \n",
            "639  Gần mực thì đen còn gần 30 thì thích màu hường...       5       0   \n",
            "641  CƠ HỘI CHO CÁC TRÌNH DƯỢC VIÊN TÀI NĂNG CHÍNH ...       5       0   \n",
            "\n",
            "                                          content_stem  comment_len  \n",
            "369  chất lượng sản với mô đi không phải để nhận lạ...          467  \n",
            "569  tb quà tặng tháng 3 kính tặng quý khách 20 giá...          241  \n",
            "571  lò vi sóng đóng cặn sao có món tết ngon\\n\\n kh...          238  \n",
            "639  gần mực thì đen còn gần 30 thì thích màu hường...          208  \n",
            "641  cơ hội cho các trình dược viên tài năng chính ...          618  \n"
          ]
        }
      ],
      "source": [
        "# df.shape\n",
        "print(df[df['comment'].str.contains('QC')].shape)\n",
        "print(df[df['comment'].str.contains('QC')].head())\n",
        "print(df[df['comment'].str.contains('chốt đơn')].shape)\n",
        "print(df[df['comment'].str.contains('chốt đơn')].head())\n",
        "print(df[df['comment'].str.contains('http')].shape)\n",
        "print(df[df['comment'].str.contains('http')].head())\n"
      ]
    }
  ],
  "metadata": {
    "colab": {
      "provenance": []
    },
    "kernelspec": {
      "display_name": "Python 3",
      "name": "python3"
    },
    "language_info": {
      "codemirror_mode": {
        "name": "ipython",
        "version": 3
      },
      "file_extension": ".py",
      "mimetype": "text/x-python",
      "name": "python",
      "nbconvert_exporter": "python",
      "pygments_lexer": "ipython3",
      "version": "3.12.1"
    }
  },
  "nbformat": 4,
  "nbformat_minor": 0
}
